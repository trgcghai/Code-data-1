{
 "cells": [
  {
   "cell_type": "code",
   "execution_count": 29,
   "metadata": {},
   "outputs": [],
   "source": [
    "#import\n",
    "import pandas as pd\n",
    "import seaborn as sns\n",
    "import matplotlib.pyplot as plt\n",
    "import numpy as np\n",
    "import scipy.stats as stats\n",
    "from statsmodels.stats.weightstats import ztest as ztest\n",
    "from scipy.stats import pearsonr\n",
    "from scipy.stats import chi2_contingency\n",
    "import statsmodels.api as sm\n",
    "from statsmodels.formula.api import ols\n",
    "from sklearn import preprocessing\n",
    "from sklearn.preprocessing import LabelBinarizer\n",
    "from sklearn.preprocessing import OneHotEncoder\n",
    "from sklearn.preprocessing import MaxAbsScaler\n",
    "from sklearn.preprocessing import MinMaxScaler\n",
    "from sklearn.preprocessing import StandardScaler\n",
    "from sklearn.model_selection import train_test_split\n",
    "from sklearn.neighbors import KNeighborsClassifier\n",
    "from sklearn.metrics import accuracy_score\n",
    "from sklearn.metrics import confusion_matrix\n",
    "from sklearn.metrics import classification_report\n",
    "from sklearn import metrics\n",
    "import pickle"
   ]
  },
  {
   "cell_type": "code",
   "execution_count": 30,
   "metadata": {},
   "outputs": [],
   "source": [
    "df = pd.read_csv('data-midterm.csv',header=0,delimiter=',',encoding='utf-8')"
   ]
  },
  {
   "cell_type": "code",
   "execution_count": 31,
   "metadata": {},
   "outputs": [
    {
     "name": "stdout",
     "output_type": "stream",
     "text": [
      "SHAPE: \n",
      " (1000, 8)\n",
      "----------------------------------------------------------------------------------------------------\n",
      "DESCRIBLE: \n",
      "         TimeToPlay  TimeToStudy  ProfessionalScore  ExpectedSalary\n",
      "count  1000.000000  1000.000000        1000.000000     1000.000000\n",
      "mean      5.077300     5.064000           1.939700      549.826700\n",
      "std       2.882923     2.843235           1.142383      263.479774\n",
      "min       0.000000     0.000000           0.000000      102.100000\n",
      "25%       2.600000     2.700000           1.000000      321.775000\n",
      "50%       5.300000     5.200000           2.000000      546.300000\n",
      "75%       7.500000     7.400000           2.900000      787.700000\n",
      "max      10.000000    10.000000           4.000000      999.900000\n",
      "----------------------------------------------------------------------------------------------------\n",
      "HEAD: \n",
      "    TimeToPlay  TimeToStudy  ProfessionalScore InterviewScore Sexuality  \\\n",
      "0         0.1          4.4                2.5              F         T   \n",
      "1         4.1          5.7                3.7              D         L   \n",
      "2         7.3          0.9                2.7              D         T   \n",
      "3         6.2          8.8                2.7              D         T   \n",
      "4         5.0          3.1                0.2              D         Q   \n",
      "\n",
      "   ExpectedSalary SocialNetworkingTimeUse Result  \n",
      "0           249.6                    Much     NO  \n",
      "1           114.6                  Pretty    YES  \n",
      "2           862.0                  Almost     NO  \n",
      "3           147.2                  Almost    YES  \n",
      "4           653.4                  Pretty     NO  \n",
      "----------------------------------------------------------------------------------------------------\n",
      "DTYPES: \n",
      " TimeToPlay                 float64\n",
      "TimeToStudy                float64\n",
      "ProfessionalScore          float64\n",
      "InterviewScore              object\n",
      "Sexuality                   object\n",
      "ExpectedSalary             float64\n",
      "SocialNetworkingTimeUse     object\n",
      "Result                      object\n",
      "dtype: object\n",
      "----------------------------------------------------------------------------------------------------\n",
      "<class 'pandas.core.frame.DataFrame'>\n",
      "RangeIndex: 1000 entries, 0 to 999\n",
      "Data columns (total 8 columns):\n",
      " #   Column                   Non-Null Count  Dtype  \n",
      "---  ------                   --------------  -----  \n",
      " 0   TimeToPlay               1000 non-null   float64\n",
      " 1   TimeToStudy              1000 non-null   float64\n",
      " 2   ProfessionalScore        1000 non-null   float64\n",
      " 3   InterviewScore           1000 non-null   object \n",
      " 4   Sexuality                1000 non-null   object \n",
      " 5   ExpectedSalary           1000 non-null   float64\n",
      " 6   SocialNetworkingTimeUse  1000 non-null   object \n",
      " 7   Result                   1000 non-null   object \n",
      "dtypes: float64(4), object(4)\n",
      "memory usage: 62.6+ KB\n",
      "INFO: \n",
      " None\n"
     ]
    }
   ],
   "source": [
    "print(\"SHAPE: \\n\",df.shape)\n",
    "print(\"-\"*100)\n",
    "print('DESCRIBLE: \\n',df.describe())\n",
    "print(\"-\"*100)\n",
    "print('HEAD: \\n',df.head(5))\n",
    "print(\"-\"*100)\n",
    "print('DTYPES: \\n',df.dtypes)\n",
    "print(\"-\"*100)\n",
    "print('INFO: \\n',df.info())\n"
   ]
  },
  {
   "cell_type": "code",
   "execution_count": 32,
   "metadata": {},
   "outputs": [],
   "source": [
    "# Câu 1:"
   ]
  },
  {
   "cell_type": "code",
   "execution_count": 33,
   "metadata": {},
   "outputs": [],
   "source": [
    "# Câu 2:"
   ]
  },
  {
   "cell_type": "code",
   "execution_count": 35,
   "metadata": {},
   "outputs": [
    {
     "data": {
      "image/png": "[encoded data removed]",
      "text/plain": [
       "<Figure size 432x288 with 1 Axes>"
      ]
     },
     "metadata": {
      "needs_background": "light"
     },
     "output_type": "display_data"
    }
   ],
   "source": [
    "# Câu 3:\n",
    "df['TimeToStudy'].hist(bins=20)\n",
    "plt.show()"
   ]
  },
  {
   "cell_type": "code",
   "execution_count": 96,
   "metadata": {},
   "outputs": [
    {
     "name": "stdout",
     "output_type": "stream",
     "text": [
      "(-14.333435926932262, 1.3525958975523049e-46)\n"
     ]
    },
    {
     "data": {
      "text/plain": [
       "1.9397000000000009"
      ]
     },
     "execution_count": 96,
     "metadata": {},
     "output_type": "execute_result"
    }
   ],
   "source": [
    "# Câu 4:\n",
    "from statsmodels.stats.weightstats import ztest as ztest\n",
    "\n",
    "#Phương pháp 2: One-Sample ZTest\n",
    "\n",
    "print(ztest(df['ProfessionalScore'], value=2.4575))\n",
    "df['ProfessionalScore'].mean()"
   ]
  },
  {
   "cell_type": "code",
   "execution_count": 90,
   "metadata": {},
   "outputs": [
    {
     "name": "stdout",
     "output_type": "stream",
     "text": [
      "       TimeToPlay  TimeToStudy  ProfessionalScore  ExpectedSalary  lbResult\n",
      "count   81.000000    81.000000          81.000000       81.000000      81.0\n",
      "mean     4.467901     5.240741           1.808642      534.734568       0.0\n",
      "std      3.119729     2.900594           1.111440      275.275003       0.0\n",
      "min      0.100000     0.200000           0.000000      105.300000       0.0\n",
      "25%      1.700000     3.000000           1.000000      278.800000       0.0\n",
      "50%      4.300000     5.700000           1.800000      559.400000       0.0\n",
      "75%      6.700000     7.500000           2.700000      794.300000       0.0\n",
      "max     10.000000     9.800000           4.000000      999.800000       0.0\n"
     ]
    },
    {
     "data": {
      "image/png": "[encoded data removed]",
      "text/plain": [
       "<Figure size 414.125x360 with 1 Axes>"
      ]
     },
     "metadata": {
      "needs_background": "light"
     },
     "output_type": "display_data"
    },
    {
     "name": "stdout",
     "output_type": "stream",
     "text": [
      "                            OLS Regression Results                            \n",
      "==============================================================================\n",
      "Dep. Variable:                      y   R-squared:                       0.000\n",
      "Model:                            OLS   Adj. R-squared:                 -0.001\n",
      "Method:                 Least Squares   F-statistic:                    0.2865\n",
      "Date:                Wed, 09 Oct 2024   Prob (F-statistic):              0.593\n",
      "Time:                        19:17:12   Log-Likelihood:                -1551.4\n",
      "No. Observations:                1000   AIC:                             3107.\n",
      "Df Residuals:                     998   BIC:                             3117.\n",
      "Df Model:                           1                                         \n",
      "Covariance Type:            nonrobust                                         \n",
      "==============================================================================\n",
      "                 coef    std err          t      P>|t|      [0.025      0.975]\n",
      "------------------------------------------------------------------------------\n",
      "const          1.9052      0.074     25.801      0.000       1.760       2.050\n",
      "x1             0.0068      0.013      0.535      0.593      -0.018       0.032\n",
      "==============================================================================\n",
      "Omnibus:                      496.741   Durbin-Watson:                   1.916\n",
      "Prob(Omnibus):                  0.000   Jarque-Bera (JB):               55.044\n",
      "Skew:                           0.044   Prob(JB):                     1.12e-12\n",
      "Kurtosis:                       1.854   Cond. No.                         12.1\n",
      "==============================================================================\n",
      "\n",
      "Notes:\n",
      "[1] Standard Errors assume that the covariance matrix of the errors is correctly specified.\n"
     ]
    }
   ],
   "source": [
    "# Câu 5:\n",
    "# sns.lmplot(data=df, x='TimeToStudy', y='ProfessionalScore',hue='Sexuality', fit_reg=True)\n",
    "# plt.show()\n",
    "import pandas as pd\n",
    "import statsmodels.api as sm\n",
    "\n",
    "# Giả định df là DataFrame chứa dữ liệu của bạn\n",
    "# Lọc dữ liệu theo giới tính G và kết quả phỏng vấn NO\n",
    "filtered_data = df[(df['Sexuality'] == 'G') & (df['Result'] == 'NO')]\n",
    "print(filtered_data.describe())\n",
    "sns.lmplot(data=filtered_data, x='TimeToStudy', y='ProfessionalScore',hue='Sexuality', fit_reg=True)\n",
    "plt.show()\n",
    "\n",
    "import statsmodels.api as sm\n",
    "X_with_constant = sm.add_constant(df[[\"TimeToStudy\"]].values)\n",
    "y = df[['ProfessionalScore']].values\n",
    "result = sm.OLS(y, X_with_constant).fit()\n",
    "print(result.summary())\n",
    "\n",
    "# 1,7 - 1.9\n"
   ]
  },
  {
   "cell_type": "code",
   "execution_count": 83,
   "metadata": {},
   "outputs": [
    {
     "name": "stdout",
     "output_type": "stream",
     "text": [
      "Viec riêng\n",
      "(0.047634041247077305, 0.1322492331534888)\n",
      "Viec Hoc\n",
      "(0.01694062237906501, 0.5925959975069993)\n",
      "               df       sum_sq   mean_sq         F    PR(>F)\n",
      "TimeToPlay    1.0     2.958175  2.958175  2.269614  0.132249\n",
      "Residual    998.0  1300.775735  1.303383       NaN       NaN\n",
      "                df       sum_sq   mean_sq         F    PR(>F)\n",
      "TimeToStudy    1.0     0.374152  0.374152  0.286493  0.592596\n",
      "Residual     998.0  1303.359758  1.305972       NaN       NaN\n"
     ]
    }
   ],
   "source": [
    "# Câu 6:\n",
    "from scipy.stats.stats import pearsonr\n",
    "print(\"Viec riêng\")\n",
    "print(pearsonr(df['TimeToPlay'], df['ProfessionalScore']))\n",
    "print(\"Viec Hoc\")\n",
    "print(pearsonr(df['TimeToStudy'], df['ProfessionalScore']))\n",
    "import statsmodels.api as sm\n",
    "from statsmodels.formula.api import ols\n",
    "\n",
    "model = ols('ProfessionalScore ~ TimeToPlay', data=df).fit()\n",
    "aov_table = sm.stats.anova_lm(model, typ=1)\n",
    "print(aov_table)\n",
    "model = ols('ProfessionalScore ~ TimeToStudy', data=df).fit()\n",
    "aov_table = sm.stats.anova_lm(model, typ=1)\n",
    "print(aov_table)\n"
   ]
  },
  {
   "cell_type": "code",
   "execution_count": 38,
   "metadata": {},
   "outputs": [
    {
     "name": "stdout",
     "output_type": "stream",
     "text": [
      "Crosstab giữa xu hướng tính dục và điểm phỏng vấn:\n",
      "InterviewScore   A   B    C    D   F\n",
      "Sexuality                           \n",
      "B                5  24   30   42  32\n",
      "G                8  19   40   46  34\n",
      "L                9  37   64   54  38\n",
      "Q               16  65  126  122  84\n",
      "T                6  15   31   32  21\n",
      "p value is 0.9300780652577139\n",
      "Independent (H0 holds true) - Không có mối quan hệ giữa xu hướng tính dục và điểm phỏng vấn\n",
      "Giá trị nhỏ nhất trong bảng crosstab là 5 thuộc nhóm: [('B', 'A')]\n"
     ]
    }
   ],
   "source": [
    "# Câu 7:\n",
    "import pandas as pd\n",
    "from scipy.stats import chi2_contingency\n",
    "\n",
    "# Giả sử df là DataFrame có chứa dữ liệu của bạn\n",
    "# Bước 1: Tạo bảng crosstab giữa xu hướng tính dục (GT) và điểm phỏng vấn (KT)\n",
    "crosdata = pd.crosstab(df['Sexuality'], df['InterviewScore'], rownames=['Sexuality'], colnames=['InterviewScore'])\n",
    "\n",
    "# In bảng Crosstab\n",
    "print(\"Crosstab giữa xu hướng tính dục và điểm phỏng vấn:\")\n",
    "print(crosdata)\n",
    "\n",
    "# Bước 2: Thực hiện kiểm định chi-squared\n",
    "stat, p, dof, expected = chi2_contingency(crosdata)\n",
    "\n",
    "# Kiểm tra giá trị p\n",
    "alpha = 0.05\n",
    "print(\"p value is \" + str(p))\n",
    "if p <= alpha:\n",
    "    print('Dependent (reject H0) - Có mối quan hệ giữa xu hướng tính dục và điểm phỏng vấn')\n",
    "else:\n",
    "    print('Independent (H0 holds true) - Không có mối quan hệ giữa xu hướng tính dục và điểm phỏng vấn')\n",
    "\n",
    "# Bước 3: Tìm giá trị nhỏ nhất trong bảng Crosstab\n",
    "min_value = crosdata.min().min()  # Tìm giá trị nhỏ nhất\n",
    "min_group = crosdata[crosdata == min_value].stack().index.tolist()  # Tìm nhóm có giá trị nhỏ nhất\n",
    "\n",
    "print(f\"Giá trị nhỏ nhất trong bảng crosstab là {min_value} thuộc nhóm: {min_group}\")\n"
   ]
  },
  {
   "cell_type": "code",
   "execution_count": 94,
   "metadata": {},
   "outputs": [
    {
     "data": {
      "text/html": [
       "<div>\n",
       "<style scoped>\n",
       "    .dataframe tbody tr th:only-of-type {\n",
       "        vertical-align: middle;\n",
       "    }\n",
       "\n",
       "    .dataframe tbody tr th {\n",
       "        vertical-align: top;\n",
       "    }\n",
       "\n",
       "    .dataframe thead th {\n",
       "        text-align: right;\n",
       "    }\n",
       "</style>\n",
       "<table border=\"1\" class=\"dataframe\">\n",
       "  <thead>\n",
       "    <tr style=\"text-align: right;\">\n",
       "      <th>InterviewScore</th>\n",
       "      <th>A</th>\n",
       "      <th>B</th>\n",
       "      <th>C</th>\n",
       "      <th>D</th>\n",
       "      <th>F</th>\n",
       "    </tr>\n",
       "    <tr>\n",
       "      <th>Sexuality</th>\n",
       "      <th></th>\n",
       "      <th></th>\n",
       "      <th></th>\n",
       "      <th></th>\n",
       "      <th></th>\n",
       "    </tr>\n",
       "  </thead>\n",
       "  <tbody>\n",
       "    <tr>\n",
       "      <th>B</th>\n",
       "      <td>5</td>\n",
       "      <td>24</td>\n",
       "      <td>30</td>\n",
       "      <td>42</td>\n",
       "      <td>32</td>\n",
       "    </tr>\n",
       "    <tr>\n",
       "      <th>G</th>\n",
       "      <td>8</td>\n",
       "      <td>19</td>\n",
       "      <td>40</td>\n",
       "      <td>46</td>\n",
       "      <td>34</td>\n",
       "    </tr>\n",
       "    <tr>\n",
       "      <th>L</th>\n",
       "      <td>9</td>\n",
       "      <td>37</td>\n",
       "      <td>64</td>\n",
       "      <td>54</td>\n",
       "      <td>38</td>\n",
       "    </tr>\n",
       "    <tr>\n",
       "      <th>Q</th>\n",
       "      <td>16</td>\n",
       "      <td>65</td>\n",
       "      <td>126</td>\n",
       "      <td>122</td>\n",
       "      <td>84</td>\n",
       "    </tr>\n",
       "    <tr>\n",
       "      <th>T</th>\n",
       "      <td>6</td>\n",
       "      <td>15</td>\n",
       "      <td>31</td>\n",
       "      <td>32</td>\n",
       "      <td>21</td>\n",
       "    </tr>\n",
       "  </tbody>\n",
       "</table>\n",
       "</div>"
      ],
      "text/plain": [
       "InterviewScore   A   B    C    D   F\n",
       "Sexuality                           \n",
       "B                5  24   30   42  32\n",
       "G                8  19   40   46  34\n",
       "L                9  37   64   54  38\n",
       "Q               16  65  126  122  84\n",
       "T                6  15   31   32  21"
      ]
     },
     "execution_count": 94,
     "metadata": {},
     "output_type": "execute_result"
    }
   ],
   "source": [
    "import scipy.stats as stats\n",
    "crosdata = pd.crosstab(df['Sexuality'], df['InterviewScore'])\n",
    "crosdata"
   ]
  },
  {
   "cell_type": "code",
   "execution_count": 43,
   "metadata": {},
   "outputs": [
    {
     "name": "stdout",
     "output_type": "stream",
     "text": [
      "(201, 9)\n",
      "Số phần tử thuộc nhóm nhãn 'Good' là: 201\n"
     ]
    }
   ],
   "source": [
    "# Câu 8:\n",
    "import pandas as pd\n",
    "\n",
    "# Giả sử df là DataFrame chứa dữ liệu của bạn\n",
    "# Bước 1: Tạo các khoảng giá trị và nhãn tương ứng\n",
    "bins = [0, 5, 7, 9, float('Inf')]\n",
    "labels = ['Bad', 'Pretty', 'Good', 'Excellent']\n",
    "\n",
    "# Bước 2: Sử dụng pd.cut để chia TimeToStudy thành các khoảng và gán nhãn\n",
    "df['StudyGroup'] = pd.cut(df['TimeToStudy'], bins=bins, labels=labels, right=False)\n",
    "# Bước 3: Đếm số phần tử thuộc nhóm 'Good'\n",
    "good_count = df[df['StudyGroup'] == 'Good'].shape[0]\n",
    "\n",
    "print(f\"Số phần tử thuộc nhóm nhãn 'Good' là: {good_count}\")\n"
   ]
  },
  {
   "cell_type": "code",
   "execution_count": 47,
   "metadata": {},
   "outputs": [
    {
     "name": "stdout",
     "output_type": "stream",
     "text": [
      "5.75 8.6\n"
     ]
    },
    {
     "data": {
      "image/png": "[encoded data removed]",
      "text/plain": [
       "<Figure size 432x288 with 1 Axes>"
      ]
     },
     "metadata": {
      "needs_background": "light"
     },
     "output_type": "display_data"
    }
   ],
   "source": [
    "# Câu 9:\n",
    "ax = sns.boxplot(x=\"ProfessionalScore\", data=df)\n",
    "ax = sns.stripplot(x=\"ProfessionalScore\", data=df, jitter=True, edgecolor=\"gray\")\n",
    "IQR = df[\"ProfessionalScore\"].quantile(0.75) - df[\"ProfessionalScore\"].quantile(0.25)\n",
    "m1 = df[\"ProfessionalScore\"].quantile(0.75) + 1.5 * IQR\n",
    "print(m1, m1 + 1.5 * IQR)"
   ]
  },
  {
   "cell_type": "code",
   "execution_count": 49,
   "metadata": {},
   "outputs": [
    {
     "name": "stdout",
     "output_type": "stream",
     "text": [
      "0    D\n",
      "dtype: object\n"
     ]
    }
   ],
   "source": [
    "# Câu 10:\n",
    "print(df.InterviewScore.mode())"
   ]
  },
  {
   "cell_type": "code",
   "execution_count": 56,
   "metadata": {},
   "outputs": [
    {
     "name": "stdout",
     "output_type": "stream",
     "text": [
      "2.9\n"
     ]
    }
   ],
   "source": [
    "# Câu 11:\n",
    "print(df.ProfessionalScore.quantile(0.75))"
   ]
  },
  {
   "cell_type": "code",
   "execution_count": 53,
   "metadata": {},
   "outputs": [
    {
     "name": "stdout",
     "output_type": "stream",
     "text": [
      "Giá trị nghi ngờ là bất thường nằm ngoài khoảng: [-1.8499999999999996, 5.75]\n",
      "Các giá trị outliers: []\n"
     ]
    }
   ],
   "source": [
    "# Câu 12:\n",
    "import pandas as pd\n",
    "\n",
    "# Giả sử df là DataFrame chứa dữ liệu của bạn, và 'TimeToStudy' là cột bạn muốn kiểm tra\n",
    "Q1 = df['ProfessionalScore'].quantile(0.25)\n",
    "Q3 = df['ProfessionalScore'].quantile(0.75)\n",
    "IQR = Q3 - Q1\n",
    "\n",
    "# Tính Lower Bound và Upper Bound\n",
    "lower_bound = Q1 - 1.5 * IQR\n",
    "upper_bound = Q3 + 1.5 * IQR\n",
    "\n",
    "print(f\"Giá trị nghi ngờ là bất thường nằm ngoài khoảng: [{lower_bound}, {upper_bound}]\")\n",
    "\n",
    "# Lọc ra các giá trị outliers\n",
    "outliers = df[(df['ProfessionalScore'] < lower_bound) | (df['ProfessionalScore'] > upper_bound)]\n",
    "print(\"Các giá trị outliers:\", outliers['ProfessionalScore'].values)\n"
   ]
  },
  {
   "cell_type": "code",
   "execution_count": 54,
   "metadata": {},
   "outputs": [
    {
     "name": "stdout",
     "output_type": "stream",
     "text": [
      "Giá trị ProfessionalScore = 2.7 thuộc nhóm: D\n"
     ]
    }
   ],
   "source": [
    "# Câu 13:\n",
    "import pandas as pd\n",
    "\n",
    "# Giả sử df là DataFrame chứa dữ liệu, và 'ProfessionalScore' là cột bạn muốn chia\n",
    "bins = df['ProfessionalScore'].quantile([0, 0.2, 0.5, 0.6, 0.8, 1])\n",
    "\n",
    "# Gán nhãn cho các khoảng phân vị\n",
    "labels = ['A', 'B', 'C', 'D', 'E']\n",
    "df['ScoreGroup'] = pd.cut(df['ProfessionalScore'], bins=bins, labels=labels, include_lowest=True)\n",
    "\n",
    "# Kiểm tra giá trị 2.7 thuộc nhóm nào\n",
    "value = 2.7\n",
    "group = df[df['ProfessionalScore'] == value]['ScoreGroup'].values[0]\n",
    "print(f\"Giá trị ProfessionalScore = {value} thuộc nhóm: {group}\")\n"
   ]
  },
  {
   "cell_type": "code",
   "execution_count": 57,
   "metadata": {},
   "outputs": [
    {
     "name": "stdout",
     "output_type": "stream",
     "text": [
      "(1000, 10)\n"
     ]
    }
   ],
   "source": [
    "# Câu 14:\n",
    "print(df.shape)"
   ]
  },
  {
   "cell_type": "code",
   "execution_count": 69,
   "metadata": {},
   "outputs": [
    {
     "name": "stdout",
     "output_type": "stream",
     "text": [
      "Statistic: -0.8066329122653516, p-value: 0.41987800602170866\n",
      "Không có bằng chứng để bác bỏ giả thuyết H0 (trung bình TimeToPlay và TimeToStudy có thể bằng nhau).\n"
     ]
    }
   ],
   "source": [
    "# Câu 15:\n",
    "import pandas as pd\n",
    "from statsmodels.stats.weightstats import ztest\n",
    "\n",
    "# Giả sử df là DataFrame chứa dữ liệu\n",
    "# Lọc dữ liệu cho nhóm Sexuality là 'T' và InterviewScore là 'B'\n",
    "filtered_df = df[(df['Sexuality'] == 'T') & (df['InterviewScore'] == 'B')]\n",
    "\n",
    "# Lấy giá trị của TimeToPlay và TimeToStudy\n",
    "M1 = filtered_df['TimeToPlay']\n",
    "M2 = filtered_df['TimeToStudy']\n",
    "\n",
    "# Kiểm định z-test\n",
    "statistic, p_value = ztest(filtered_df['TimeToPlay'], filtered_df['TimeToStudy'], value=0)\n",
    "\n",
    "# In kết quả\n",
    "alpha = 0.05\n",
    "print(f\"Statistic: {statistic}, p-value: {p_value}\")\n",
    "\n",
    "# Kiểm tra kết quả p-value với mức sai lầm 5%\n",
    "if p_value <= alpha:\n",
    "    print(\"Có bằng chứng để bác bỏ giả thuyết H0 (trung bình TimeToPlay và TimeToStudy không bằng nhau).\")\n",
    "else:\n",
    "    print(\"Không có bằng chứng để bác bỏ giả thuyết H0 (trung bình TimeToPlay và TimeToStudy có thể bằng nhau).\")\n",
    "\n"
   ]
  },
  {
   "cell_type": "code",
   "execution_count": 64,
   "metadata": {},
   "outputs": [],
   "source": [
    "# Câu 16:\n",
    "s_mean = df.ProfessionalScore.mean()\n",
    "gr_score = df.groupby(['Sexuality'])['ProfessionalScore'].agg('mean')\n",
    "print(gr_score)\n",
    "print(s_mean)"
   ]
  },
  {
   "cell_type": "code",
   "execution_count": 19,
   "metadata": {},
   "outputs": [],
   "source": [
    "# Câu 17:"
   ]
  },
  {
   "cell_type": "code",
   "execution_count": 72,
   "metadata": {},
   "outputs": [
    {
     "name": "stdout",
     "output_type": "stream",
     "text": [
      "                            OLS Regression Results                            \n",
      "==============================================================================\n",
      "Dep. Variable:                      y   R-squared:                       0.003\n",
      "Model:                            OLS   Adj. R-squared:                  0.001\n",
      "Method:                 Least Squares   F-statistic:                     1.253\n",
      "Date:                Wed, 09 Oct 2024   Prob (F-statistic):              0.286\n",
      "Time:                        18:58:04   Log-Likelihood:                -1550.3\n",
      "No. Observations:                1000   AIC:                             3107.\n",
      "Df Residuals:                     997   BIC:                             3121.\n",
      "Df Model:                           2                                         \n",
      "Covariance Type:            nonrobust                                         \n",
      "==============================================================================\n",
      "                 coef    std err          t      P>|t|      [0.025      0.975]\n",
      "------------------------------------------------------------------------------\n",
      "const          1.8134      0.096     18.860      0.000       1.625       2.002\n",
      "x1             0.0062      0.013      0.488      0.626      -0.019       0.031\n",
      "x2             0.0187      0.013      1.490      0.137      -0.006       0.043\n",
      "==============================================================================\n",
      "Omnibus:                      473.605   Durbin-Watson:                   1.917\n",
      "Prob(Omnibus):                  0.000   Jarque-Bera (JB):               54.357\n",
      "Skew:                           0.044   Prob(JB):                     1.57e-12\n",
      "Kurtosis:                       1.861   Cond. No.                         20.9\n",
      "==============================================================================\n",
      "\n",
      "Notes:\n",
      "[1] Standard Errors assume that the covariance matrix of the errors is correctly specified.\n",
      "1.9752999999999998\n"
     ]
    }
   ],
   "source": [
    "# Câu 18:\n",
    "import statsmodels.api as sm\n",
    "X_with_constant = sm.add_constant(df[[\"TimeToStudy\",\"TimeToPlay\"]].values)\n",
    "y = df[['ProfessionalScore']].values\n",
    "result = sm.OLS(y, X_with_constant).fit()\n",
    "print(result.summary())\n",
    "# a0 = 5.2\n",
    "# a1 = 0.0161\n",
    "# a2 = -0.0906\n",
    "# M3 = 5.2 + 0.0161 * M1 + (-0.0906) * M2\n",
    "print(1.8134 + 0.0062 * 5.0 + 0.0187 * 7.0) # M3 = 4.798"
   ]
  },
  {
   "cell_type": "code",
   "execution_count": 73,
   "metadata": {},
   "outputs": [
    {
     "name": "stdout",
     "output_type": "stream",
     "text": [
      "0    0\n",
      "1    1\n",
      "2    0\n",
      "3    1\n",
      "4    0\n",
      "Name: lbResult, dtype: int32\n",
      "0     NO\n",
      "1    YES\n",
      "2     NO\n",
      "3    YES\n",
      "4     NO\n",
      "Name: Result, dtype: object\n"
     ]
    }
   ],
   "source": [
    "from sklearn import preprocessing\n",
    "label_encoder = preprocessing.LabelEncoder()\n",
    "df['lbResult']= label_encoder.fit_transform(df['Result']) \n",
    "print(df['lbResult'].head(5))\n",
    "print(df['Result'].head(5))\n",
    "# No: 0, Yes: 1"
   ]
  },
  {
   "cell_type": "code",
   "execution_count": 74,
   "metadata": {},
   "outputs": [
    {
     "data": {
      "text/html": [
       "<div>\n",
       "<style scoped>\n",
       "    .dataframe tbody tr th:only-of-type {\n",
       "        vertical-align: middle;\n",
       "    }\n",
       "\n",
       "    .dataframe tbody tr th {\n",
       "        vertical-align: top;\n",
       "    }\n",
       "\n",
       "    .dataframe thead th {\n",
       "        text-align: right;\n",
       "    }\n",
       "</style>\n",
       "<table border=\"1\" class=\"dataframe\">\n",
       "  <thead>\n",
       "    <tr style=\"text-align: right;\">\n",
       "      <th></th>\n",
       "      <th>df</th>\n",
       "      <th>sum_sq</th>\n",
       "      <th>mean_sq</th>\n",
       "      <th>F</th>\n",
       "      <th>PR(&gt;F)</th>\n",
       "    </tr>\n",
       "  </thead>\n",
       "  <tbody>\n",
       "    <tr>\n",
       "      <th>Sexuality</th>\n",
       "      <td>4.0</td>\n",
       "      <td>1.217593</td>\n",
       "      <td>0.304398</td>\n",
       "      <td>1.2205</td>\n",
       "      <td>0.30037</td>\n",
       "    </tr>\n",
       "    <tr>\n",
       "      <th>Residual</th>\n",
       "      <td>995.0</td>\n",
       "      <td>248.157407</td>\n",
       "      <td>0.249404</td>\n",
       "      <td>NaN</td>\n",
       "      <td>NaN</td>\n",
       "    </tr>\n",
       "  </tbody>\n",
       "</table>\n",
       "</div>"
      ],
      "text/plain": [
       "              df      sum_sq   mean_sq       F   PR(>F)\n",
       "Sexuality    4.0    1.217593  0.304398  1.2205  0.30037\n",
       "Residual   995.0  248.157407  0.249404     NaN      NaN"
      ]
     },
     "execution_count": 74,
     "metadata": {},
     "output_type": "execute_result"
    }
   ],
   "source": [
    "# Câu 19:\n",
    "\n",
    "import statsmodels.api as sm\n",
    "from statsmodels.formula.api import ols\n",
    "\n",
    "model = ols('lbResult ~ Sexuality', data=df).fit()\n",
    "aov_table = sm.stats.anova_lm(model, typ=1)\n",
    "aov_table"
   ]
  },
  {
   "cell_type": "code",
   "execution_count": 78,
   "metadata": {},
   "outputs": [
    {
     "data": {
      "image/png": "[encoded data removed]",
      "text/plain": [
       "<Figure size 432x288 with 1 Axes>"
      ]
     },
     "metadata": {},
     "output_type": "display_data"
    },
    {
     "name": "stdout",
     "output_type": "stream",
     "text": [
      "Sexuality\n",
      "B    0.133\n",
      "G    0.147\n",
      "L    0.202\n",
      "Q    0.413\n",
      "T    0.105\n",
      "Name: count, dtype: float64\n"
     ]
    }
   ],
   "source": [
    "# Câu 20:\n",
    "gb = df.groupby(['Sexuality'])['Sexuality'].agg(['count'])\n",
    "labels = gb.index # labels = ['A','A1','B','C','D1']\n",
    "data = list(gb['count']) # data= [49,6,9,14,22]\n",
    "\n",
    "colors = sns.color_palette('pastel') # Tạo bảng màu\n",
    "\n",
    "plt.pie(data, labels=labels, colors=colors, \n",
    "        autopct='%1.1f%%', shadow=True)\n",
    "\n",
    "plt.show()\n",
    "print(gb['count']/gb['count'].sum())"
   ]
  },
  {
   "cell_type": "code",
   "execution_count": 23,
   "metadata": {},
   "outputs": [],
   "source": [
    "# Câu 21:"
   ]
  },
  {
   "cell_type": "code",
   "execution_count": 24,
   "metadata": {},
   "outputs": [],
   "source": [
    "# Câu 22:"
   ]
  },
  {
   "cell_type": "code",
   "execution_count": 25,
   "metadata": {},
   "outputs": [],
   "source": [
    "# Câu 23:"
   ]
  },
  {
   "cell_type": "code",
   "execution_count": 26,
   "metadata": {},
   "outputs": [],
   "source": [
    "# Câu 24:"
   ]
  },
  {
   "cell_type": "code",
   "execution_count": 27,
   "metadata": {},
   "outputs": [],
   "source": [
    "# Câu 25:"
   ]
  }
 ],
 "metadata": {
  "kernelspec": {
   "display_name": "base",
   "language": "python",
   "name": "python3"
  },
  "language_info": {
   "codemirror_mode": {
    "name": "ipython",
    "version": 3
   },
   "file_extension": ".py",
   "mimetype": "text/x-python",
   "name": "python",
   "nbconvert_exporter": "python",
   "pygments_lexer": "ipython3",
   "version": "3.8.5"
  }
 },
 "nbformat": 4,
 "nbformat_minor": 2
}
