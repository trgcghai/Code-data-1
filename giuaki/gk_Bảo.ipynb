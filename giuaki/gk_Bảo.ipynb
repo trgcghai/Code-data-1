{
 "cells": [
  {
   "cell_type": "code",
   "execution_count": 1,
   "metadata": {},
   "outputs": [],
   "source": [
    "import pandas as pd\n",
    "import seaborn as sns\n",
    "import matplotlib.pyplot as plt\n",
    "import numpy as np\n",
    "import scipy.stats as stats\n",
    "from statsmodels.stats.weightstats import ztest as ztest\n",
    "from scipy.stats import pearsonr\n",
    "from scipy.stats import chi2_contingency\n",
    "import statsmodels.api as sm\n",
    "from statsmodels.formula.api import ols\n",
    "from sklearn import preprocessing\n",
    "from sklearn.preprocessing import LabelBinarizer\n",
    "from sklearn.preprocessing import OneHotEncoder\n",
    "from sklearn.preprocessing import MaxAbsScaler\n",
    "from sklearn.preprocessing import MinMaxScaler\n",
    "from sklearn.preprocessing import StandardScaler\n",
    "from sklearn.model_selection import train_test_split\n",
    "from sklearn.neighbors import KNeighborsClassifier\n",
    "from sklearn.metrics import accuracy_score\n",
    "from sklearn.metrics import confusion_matrix\n",
    "from sklearn.metrics import classification_report\n",
    "from sklearn import metrics\n",
    "import pickle"
   ]
  },
  {
   "cell_type": "code",
   "execution_count": 3,
   "metadata": {},
   "outputs": [
    {
     "data": {
      "text/html": [
       "<div>\n",
       "<style scoped>\n",
       "    .dataframe tbody tr th:only-of-type {\n",
       "        vertical-align: middle;\n",
       "    }\n",
       "\n",
       "    .dataframe tbody tr th {\n",
       "        vertical-align: top;\n",
       "    }\n",
       "\n",
       "    .dataframe thead th {\n",
       "        text-align: right;\n",
       "    }\n",
       "</style>\n",
       "<table border=\"1\" class=\"dataframe\">\n",
       "  <thead>\n",
       "    <tr style=\"text-align: right;\">\n",
       "      <th></th>\n",
       "      <th>TimeToPlay</th>\n",
       "      <th>TimeToStudy</th>\n",
       "      <th>ProfessionalScore</th>\n",
       "      <th>InterviewScore</th>\n",
       "      <th>Sexuality</th>\n",
       "      <th>ExpectedSalary</th>\n",
       "      <th>SocialNetworkingTimeUse</th>\n",
       "      <th>Result</th>\n",
       "    </tr>\n",
       "  </thead>\n",
       "  <tbody>\n",
       "    <tr>\n",
       "      <th>0</th>\n",
       "      <td>0.1</td>\n",
       "      <td>4.4</td>\n",
       "      <td>2.5</td>\n",
       "      <td>F</td>\n",
       "      <td>T</td>\n",
       "      <td>249.6</td>\n",
       "      <td>Much</td>\n",
       "      <td>NO</td>\n",
       "    </tr>\n",
       "    <tr>\n",
       "      <th>1</th>\n",
       "      <td>4.1</td>\n",
       "      <td>5.7</td>\n",
       "      <td>3.7</td>\n",
       "      <td>D</td>\n",
       "      <td>L</td>\n",
       "      <td>114.6</td>\n",
       "      <td>Pretty</td>\n",
       "      <td>YES</td>\n",
       "    </tr>\n",
       "    <tr>\n",
       "      <th>2</th>\n",
       "      <td>7.3</td>\n",
       "      <td>0.9</td>\n",
       "      <td>2.7</td>\n",
       "      <td>D</td>\n",
       "      <td>T</td>\n",
       "      <td>862.0</td>\n",
       "      <td>Almost</td>\n",
       "      <td>NO</td>\n",
       "    </tr>\n",
       "    <tr>\n",
       "      <th>3</th>\n",
       "      <td>6.2</td>\n",
       "      <td>8.8</td>\n",
       "      <td>2.7</td>\n",
       "      <td>D</td>\n",
       "      <td>T</td>\n",
       "      <td>147.2</td>\n",
       "      <td>Almost</td>\n",
       "      <td>YES</td>\n",
       "    </tr>\n",
       "    <tr>\n",
       "      <th>4</th>\n",
       "      <td>5.0</td>\n",
       "      <td>3.1</td>\n",
       "      <td>0.2</td>\n",
       "      <td>D</td>\n",
       "      <td>Q</td>\n",
       "      <td>653.4</td>\n",
       "      <td>Pretty</td>\n",
       "      <td>NO</td>\n",
       "    </tr>\n",
       "    <tr>\n",
       "      <th>...</th>\n",
       "      <td>...</td>\n",
       "      <td>...</td>\n",
       "      <td>...</td>\n",
       "      <td>...</td>\n",
       "      <td>...</td>\n",
       "      <td>...</td>\n",
       "      <td>...</td>\n",
       "      <td>...</td>\n",
       "    </tr>\n",
       "    <tr>\n",
       "      <th>995</th>\n",
       "      <td>2.9</td>\n",
       "      <td>6.3</td>\n",
       "      <td>1.2</td>\n",
       "      <td>C</td>\n",
       "      <td>Q</td>\n",
       "      <td>512.1</td>\n",
       "      <td>Almost</td>\n",
       "      <td>YES</td>\n",
       "    </tr>\n",
       "    <tr>\n",
       "      <th>996</th>\n",
       "      <td>3.8</td>\n",
       "      <td>1.5</td>\n",
       "      <td>2.8</td>\n",
       "      <td>B</td>\n",
       "      <td>T</td>\n",
       "      <td>267.6</td>\n",
       "      <td>Almost</td>\n",
       "      <td>NO</td>\n",
       "    </tr>\n",
       "    <tr>\n",
       "      <th>997</th>\n",
       "      <td>7.4</td>\n",
       "      <td>0.6</td>\n",
       "      <td>1.3</td>\n",
       "      <td>D</td>\n",
       "      <td>Q</td>\n",
       "      <td>884.2</td>\n",
       "      <td>None</td>\n",
       "      <td>YES</td>\n",
       "    </tr>\n",
       "    <tr>\n",
       "      <th>998</th>\n",
       "      <td>8.5</td>\n",
       "      <td>5.7</td>\n",
       "      <td>3.3</td>\n",
       "      <td>C</td>\n",
       "      <td>L</td>\n",
       "      <td>662.2</td>\n",
       "      <td>Pretty</td>\n",
       "      <td>YES</td>\n",
       "    </tr>\n",
       "    <tr>\n",
       "      <th>999</th>\n",
       "      <td>0.9</td>\n",
       "      <td>4.3</td>\n",
       "      <td>0.3</td>\n",
       "      <td>B</td>\n",
       "      <td>L</td>\n",
       "      <td>649.0</td>\n",
       "      <td>Almost</td>\n",
       "      <td>YES</td>\n",
       "    </tr>\n",
       "  </tbody>\n",
       "</table>\n",
       "<p>1000 rows × 8 columns</p>\n",
       "</div>"
      ],
      "text/plain": [
       "     TimeToPlay  TimeToStudy  ProfessionalScore InterviewScore Sexuality  \\\n",
       "0           0.1          4.4                2.5              F         T   \n",
       "1           4.1          5.7                3.7              D         L   \n",
       "2           7.3          0.9                2.7              D         T   \n",
       "3           6.2          8.8                2.7              D         T   \n",
       "4           5.0          3.1                0.2              D         Q   \n",
       "..          ...          ...                ...            ...       ...   \n",
       "995         2.9          6.3                1.2              C         Q   \n",
       "996         3.8          1.5                2.8              B         T   \n",
       "997         7.4          0.6                1.3              D         Q   \n",
       "998         8.5          5.7                3.3              C         L   \n",
       "999         0.9          4.3                0.3              B         L   \n",
       "\n",
       "     ExpectedSalary SocialNetworkingTimeUse Result  \n",
       "0             249.6                    Much     NO  \n",
       "1             114.6                  Pretty    YES  \n",
       "2             862.0                  Almost     NO  \n",
       "3             147.2                  Almost    YES  \n",
       "4             653.4                  Pretty     NO  \n",
       "..              ...                     ...    ...  \n",
       "995           512.1                  Almost    YES  \n",
       "996           267.6                  Almost     NO  \n",
       "997           884.2                    None    YES  \n",
       "998           662.2                  Pretty    YES  \n",
       "999           649.0                  Almost    YES  \n",
       "\n",
       "[1000 rows x 8 columns]"
      ]
     },
     "execution_count": 3,
     "metadata": {},
     "output_type": "execute_result"
    }
   ],
   "source": [
    "df = pd.read_csv(\"data-midterm.csv\")\n",
    "df"
   ]
  },
  {
   "cell_type": "code",
   "execution_count": 6,
   "metadata": {},
   "outputs": [
    {
     "name": "stdout",
     "output_type": "stream",
     "text": [
      "Kết quả kiểm định Chi-squared:\n",
      "Chi-squared Statistic: 4.882577424112614\n",
      "P-value: 0.2995593596531659\n",
      "Không có bằng chứng cho thấy kết quả phỏng vấn phụ thuộc vào nhóm xu hướng tính dục.\n",
      "Optimization terminated successfully.\n",
      "         Current function value: 0.689396\n",
      "         Iterations 4\n",
      "                           Logit Regression Results                           \n",
      "==============================================================================\n",
      "Dep. Variable:                      y   No. Observations:                 1000\n",
      "Model:                          Logit   Df Residuals:                      995\n",
      "Method:                           MLE   Df Model:                            4\n",
      "Date:                Wed, 09 Oct 2024   Pseudo R-squ.:                0.003614\n",
      "Time:                        18:29:43   Log-Likelihood:                -689.40\n",
      "converged:                       True   LL-Null:                       -691.90\n",
      "Covariance Type:            nonrobust   LLR p-value:                    0.2872\n",
      "=====================================================================================\n",
      "                        coef    std err          z      P>|z|      [0.025      0.975]\n",
      "-------------------------------------------------------------------------------------\n",
      "const                -0.3099      0.240     -1.289      0.197      -0.781       0.161\n",
      "TimeToPlay            0.0010      0.022      0.045      0.964      -0.042       0.044\n",
      "TimeToStudy           0.0438      0.022      1.954      0.051      -0.000       0.088\n",
      "ProfessionalScore     0.0390      0.056      0.701      0.483      -0.070       0.148\n",
      "ExpectedSalary       -0.0002      0.000     -0.702      0.483      -0.001       0.000\n",
      "=====================================================================================\n"
     ]
    }
   ],
   "source": [
    "df['Result'] = df['Result'].astype('category')\n",
    "df['Sexuality'] = df['Sexuality'].astype('category')\n",
    "\n",
    "# Tạo bảng phân phối chéo\n",
    "contingency_table = pd.crosstab(df['Sexuality'], df['Result'])\n",
    "\n",
    "# Thực hiện kiểm định Chi-squared\n",
    "chi2, p_value, _, _ = stats.chi2_contingency(contingency_table)\n",
    "\n",
    "print(f\"Kết quả kiểm định Chi-squared:\")\n",
    "print(f\"Chi-squared Statistic: {chi2}\")\n",
    "print(f\"P-value: {p_value}\")\n",
    "\n",
    "# Đánh giá kết quả kiểm định\n",
    "alpha = 0.05\n",
    "if p_value < alpha:\n",
    "    print(\"Có bằng chứng cho thấy kết quả phỏng vấn phụ thuộc vào nhóm xu hướng tính dục.\")\n",
    "else:\n",
    "    print(\"Không có bằng chứng cho thấy kết quả phỏng vấn phụ thuộc vào nhóm xu hướng tính dục.\")\n",
    "\n",
    "# Hồi quy logistic để đánh giá sự ảnh hưởng của các yếu tố khác\n",
    "# Giả sử Result là biến nhị phân, bạn có thể cần mã hóa lại nếu cần\n",
    "X = df[['TimeToPlay', 'TimeToStudy', 'ProfessionalScore', 'ExpectedSalary']]\n",
    "y = df['Result'].cat.codes  # Mã hóa biến nhị phân\n",
    "\n",
    "# Thêm hằng số vào mô hình hồi quy\n",
    "X = sm.add_constant(X)\n",
    "\n",
    "# Tạo mô hình hồi quy logistic\n",
    "model = sm.Logit(y, X)\n",
    "result = model.fit()\n",
    "\n",
    "# In kết quả hồi quy\n",
    "print(result.summary())"
   ]
  },
  {
   "cell_type": "code",
   "execution_count": 7,
   "metadata": {},
   "outputs": [
    {
     "name": "stdout",
     "output_type": "stream",
     "text": [
      "Bảng Crosstab:\n",
      "InterviewScore   A   B    C    D   F\n",
      "Sexuality                           \n",
      "B                5  24   30   42  32\n",
      "G                8  19   40   46  34\n",
      "L                9  37   64   54  38\n",
      "Q               16  65  126  122  84\n",
      "T                6  15   31   32  21\n",
      "\n",
      "Giá trị nhỏ nhất trong bảng Crosstab là: 5\n",
      "Giá trị nhỏ nhất thuộc nhóm xu hướng tính dục: B và điểm phỏng vấn: A\n"
     ]
    }
   ],
   "source": [
    "crosstab = pd.crosstab(df['Sexuality'], df['InterviewScore'])\n",
    "\n",
    "# In bảng Crosstab\n",
    "print(\"Bảng Crosstab:\")\n",
    "print(crosstab)\n",
    "\n",
    "# Tìm giá trị nhỏ nhất trong bảng Crosstab\n",
    "min_value = crosstab.min().min()  # Giá trị nhỏ nhất\n",
    "min_position = crosstab.stack().idxmin()  # Vị trí của giá trị nhỏ nhất\n",
    "\n",
    "# Kết quả\n",
    "print(f\"\\nGiá trị nhỏ nhất trong bảng Crosstab là: {min_value}\")\n",
    "print(f\"Giá trị nhỏ nhất thuộc nhóm xu hướng tính dục: {min_position[0]} và điểm phỏng vấn: {min_position[1]}\")"
   ]
  },
  {
   "cell_type": "code",
   "execution_count": 8,
   "metadata": {},
   "outputs": [
    {
     "name": "stdout",
     "output_type": "stream",
     "text": [
      "                            OLS Regression Results                            \n",
      "==============================================================================\n",
      "Dep. Variable:      ProfessionalScore   R-squared:                       0.003\n",
      "Model:                            OLS   Adj. R-squared:                  0.001\n",
      "Method:                 Least Squares   F-statistic:                     1.253\n",
      "Date:                Wed, 09 Oct 2024   Prob (F-statistic):              0.286\n",
      "Time:                        18:34:42   Log-Likelihood:                -1550.3\n",
      "No. Observations:                1000   AIC:                             3107.\n",
      "Df Residuals:                     997   BIC:                             3121.\n",
      "Df Model:                           2                                         \n",
      "Covariance Type:            nonrobust                                         \n",
      "===============================================================================\n",
      "                  coef    std err          t      P>|t|      [0.025      0.975]\n",
      "-------------------------------------------------------------------------------\n",
      "const           1.8134      0.096     18.860      0.000       1.625       2.002\n",
      "TimeToPlay      0.0187      0.013      1.490      0.137      -0.006       0.043\n",
      "TimeToStudy     0.0062      0.013      0.488      0.626      -0.019       0.031\n",
      "==============================================================================\n",
      "Omnibus:                      473.605   Durbin-Watson:                   1.917\n",
      "Prob(Omnibus):                  0.000   Jarque-Bera (JB):               54.357\n",
      "Skew:                           0.044   Prob(JB):                     1.57e-12\n",
      "Kurtosis:                       1.861   Cond. No.                         20.9\n",
      "==============================================================================\n",
      "\n",
      "Notes:\n",
      "[1] Standard Errors assume that the covariance matrix of the errors is correctly specified.\n",
      "\n",
      "Điểm đánh giá năng lực dự đoán là: 1.9752219177632344\n"
     ]
    }
   ],
   "source": [
    "X = df[['TimeToPlay', 'TimeToStudy']]  # Các biến độc lập\n",
    "y = df['ProfessionalScore']  # Biến phụ thuộc\n",
    "\n",
    "# Thêm hằng số vào biến độc lập\n",
    "X = sm.add_constant(X)\n",
    "\n",
    "# Xây dựng mô hình hồi quy tuyến tính\n",
    "model = sm.OLS(y, X).fit()\n",
    "\n",
    "# In tóm tắt mô hình\n",
    "print(model.summary())\n",
    "\n",
    "# Dự đoán điểm đánh giá năng lực cho thời gian tự học 5.0 và thời gian nghỉ 7.0\n",
    "new_data = pd.DataFrame({'const': 1, 'TimeToPlay': [7.0], 'TimeToStudy': [5.0]})  # Thêm hằng số\n",
    "predicted_score = model.predict(new_data)\n",
    "\n",
    "# Kết quả dự đoán\n",
    "print(f\"\\nĐiểm đánh giá năng lực dự đoán là: {predicted_score[0]}\")"
   ]
  },
  {
   "cell_type": "code",
   "execution_count": 9,
   "metadata": {},
   "outputs": [
    {
     "name": "stdout",
     "output_type": "stream",
     "text": [
      "Trung bình mẫu: 1.9397000000000009\n",
      "Giá trị t: -14.33343592693223\n",
      "Giá trị p: 0.0\n",
      "Có đủ bằng chứng để bác bỏ giả thuyết null.\n"
     ]
    }
   ],
   "source": [
    "scores = df['ProfessionalScore']\n",
    "\n",
    "# Giá trị trung bình giả thuyết\n",
    "hypothesized_mean = 2.4575\n",
    "\n",
    "# Tính trung bình và độ lệch chuẩn của mẫu\n",
    "sample_mean = scores.mean()\n",
    "sample_std = scores.std(ddof=1)  # Bậc tự do = n-1\n",
    "n = len(scores)\n",
    "\n",
    "# Thực hiện kiểm định t\n",
    "t_statistic = (sample_mean - hypothesized_mean) / (sample_std / (n ** 0.5))\n",
    "degrees_of_freedom = n - 1\n",
    "\n",
    "# Tính p-value\n",
    "p_value = 2 * (1 - stats.t.cdf(abs(t_statistic), df=degrees_of_freedom))\n",
    "\n",
    "# Mức ý nghĩa\n",
    "alpha = 0.05\n",
    "\n",
    "# Kết quả\n",
    "print(f\"Trung bình mẫu: {sample_mean}\")\n",
    "print(f\"Giá trị t: {t_statistic}\")\n",
    "print(f\"Giá trị p: {p_value}\")\n",
    "\n",
    "if p_value < alpha:\n",
    "    print(\"Có đủ bằng chứng để bác bỏ giả thuyết null.\")\n",
    "else:\n",
    "    print(\"Không có đủ bằng chứng để bác bỏ giả thuyết null.\")"
   ]
  },
  {
   "cell_type": "code",
   "execution_count": 10,
   "metadata": {},
   "outputs": [
    {
     "name": "stdout",
     "output_type": "stream",
     "text": [
      "Trung bình mẫu: 1.9397\n",
      "Giá trị t: -14.3334\n",
      "Giá trị p: 0.0000\n",
      "Có đủ bằng chứng để bác bỏ giả thuyết null.\n"
     ]
    }
   ],
   "source": [
    "scores = df['ProfessionalScore']\n",
    "\n",
    "# Giá trị trung bình giả thuyết\n",
    "hypothesized_mean = 2.4575\n",
    "\n",
    "# Tính trung bình và độ lệch chuẩn của mẫu\n",
    "sample_mean = scores.mean()\n",
    "sample_std = scores.std(ddof=1)  # Bậc tự do = n-1\n",
    "n = len(scores)\n",
    "\n",
    "# Thực hiện kiểm định t\n",
    "t_statistic = (sample_mean - hypothesized_mean) / (sample_std / (n ** 0.5))\n",
    "degrees_of_freedom = n - 1\n",
    "\n",
    "# Tính p-value\n",
    "p_value = 2 * (1 - stats.t.cdf(abs(t_statistic), df=degrees_of_freedom))\n",
    "\n",
    "# Mức ý nghĩa\n",
    "alpha = 0.05\n",
    "\n",
    "# Kết quả\n",
    "print(f\"Trung bình mẫu: {sample_mean:.4f}\")\n",
    "print(f\"Giá trị t: {t_statistic:.4f}\")\n",
    "print(f\"Giá trị p: {p_value:.4f}\")\n",
    "\n",
    "# Đánh giá kết quả\n",
    "if p_value < alpha:\n",
    "    print(\"Có đủ bằng chứng để bác bỏ giả thuyết null.\")\n",
    "else:\n",
    "    print(\"Không có đủ bằng chứng để bác bỏ giả thuyết null.\")"
   ]
  },
  {
   "cell_type": "code",
   "execution_count": 12,
   "metadata": {},
   "outputs": [
    {
     "name": "stdout",
     "output_type": "stream",
     "text": [
      "Tỷ lệ phần trăm các nhóm giới tính:\n",
      "Q    41.3\n",
      "L    20.2\n",
      "G    14.7\n",
      "B    13.3\n",
      "T    10.5\n",
      "Name: Sexuality, dtype: float64\n"
     ]
    },
    {
     "data": {
      "image/png": "[encoded data removed]",
      "text/plain": [
       "<Figure size 576x432 with 1 Axes>"
      ]
     },
     "metadata": {},
     "output_type": "display_data"
    }
   ],
   "source": [
    "\n",
    "# Tính tỷ lệ phần trăm các nhóm giới tính\n",
    "gender_counts = df['Sexuality'].value_counts(normalize=True) * 100\n",
    "\n",
    "# Hiển thị kết quả\n",
    "print(\"Tỷ lệ phần trăm các nhóm giới tính:\")\n",
    "print(gender_counts)\n",
    "\n",
    "# Vẽ biểu đồ Pie\n",
    "plt.figure(figsize=(8, 6))\n",
    "plt.pie(gender_counts, labels=gender_counts.index, autopct='%1.1f%%', startangle=140)\n",
    "plt.title(\"Tỷ lệ phần trăm các nhóm giới tính\")\n",
    "plt.axis('equal')  # Để biểu đồ hình tròn\n",
    "plt.show()"
   ]
  },
  {
   "cell_type": "code",
   "execution_count": 14,
   "metadata": {},
   "outputs": [
    {
     "name": "stdout",
     "output_type": "stream",
     "text": [
      "Sexuality\n",
      "B    2.025564\n",
      "Q    1.960533\n",
      "Name: ProfessionalScore, dtype: float64\n"
     ]
    }
   ],
   "source": [
    "\n",
    "# Tính trung bình điểm đánh giá năng lực\n",
    "average_score = df['ProfessionalScore'].mean()\n",
    "\n",
    "# Nhóm theo xu hướng tính dục và tính điểm đánh giá năng lực trung bình của từng nhóm\n",
    "grouped = df.groupby('Sexuality')['ProfessionalScore'].mean()\n",
    "\n",
    "# Lọc những nhóm có điểm đánh giá năng lực lớn hơn trung bình\n",
    "result = grouped[grouped > average_score]\n",
    "\n",
    "# Hiển thị kết quả\n",
    "print(result)"
   ]
  },
  {
   "cell_type": "code",
   "execution_count": 15,
   "metadata": {},
   "outputs": [
    {
     "name": "stdout",
     "output_type": "stream",
     "text": [
      "Đa số điểm phỏng vấn của sinh viên là: D\n"
     ]
    }
   ],
   "source": [
    "most_common_score = df['InterviewScore'].mode()[0]\n",
    "\n",
    "# Hiển thị kết quả\n",
    "print(f\"Đa số điểm phỏng vấn của sinh viên là: {most_common_score}\")"
   ]
  },
  {
   "cell_type": "code",
   "execution_count": 16,
   "metadata": {},
   "outputs": [
    {
     "name": "stdout",
     "output_type": "stream",
     "text": [
      "Số phần tử thuộc nhóm nhãn 'Good': 201\n"
     ]
    }
   ],
   "source": [
    "bins = [0, 5, 7, 9, float('inf')]\n",
    "labels = ['Bad', 'Pretty', 'Good', 'Excellent']\n",
    "\n",
    "# Chia cột TimeToStudy thành các khoảng và gán nhãn\n",
    "df['StudyCategory'] = pd.cut(df['TimeToStudy'], bins=bins, labels=labels, right=False)\n",
    "\n",
    "# Tính số phần tử thuộc nhóm nhãn 'Good'\n",
    "count_good = (df['StudyCategory'] == 'Good').sum()\n",
    "\n",
    "# Hiển thị kết quả\n",
    "print(f\"Số phần tử thuộc nhóm nhãn 'Good': {count_good}\")"
   ]
  },
  {
   "cell_type": "code",
   "execution_count": 23,
   "metadata": {},
   "outputs": [
    {
     "data": {
      "image/png": "[encoded data removed]",
      "text/plain": [
       "<Figure size 576x576 with 1 Axes>"
      ]
     },
     "metadata": {
      "needs_background": "light"
     },
     "output_type": "display_data"
    },
    {
     "name": "stdout",
     "output_type": "stream",
     "text": [
      "Dự đoán ProfessionalScore tại TimeToStudy = 0: 1.91\n",
      "Dự đoán ProfessionalScore tại TimeToStudy = 10: 1.97\n"
     ]
    }
   ],
   "source": [
    "from sklearn.linear_model import LinearRegression\n",
    "\n",
    "\n",
    "X = df[['TimeToStudy']]\n",
    "y = df['ProfessionalScore']\n",
    "\n",
    "# Khởi tạo và huấn luyện mô hình\n",
    "model = LinearRegression()\n",
    "model.fit(X, y)\n",
    "\n",
    "# Dự đoán giá trị cho TimeToStudy từ 0 đến 10\n",
    "time_to_study_range = np.linspace(0, 10, 100).reshape(-1, 1)\n",
    "predicted_scores = model.predict(time_to_study_range)\n",
    "\n",
    "# Tính toán khoảng giá trị dự đoán cho các TimeToStudy đã cho\n",
    "predicted_min = model.predict([[0]])[0]  # Dự đoán tại TimeToStudy = 0\n",
    "predicted_max = model.predict([[10]])[0]  # Dự đoán tại TimeToStudy = 10\n",
    "\n",
    "# Vẽ biểu đồ hồi quy\n",
    "plt.figure(figsize=(8, 8))\n",
    "sns.regplot(x='TimeToStudy', y='ProfessionalScore', data=df, scatter_kws={'color': 'blue'}, line_kws={'color': 'red'})\n",
    "plt.xlabel('TimeToStudy')\n",
    "plt.ylabel('ProfessionalScore')\n",
    "plt.title('Biểu đồ hồi quy tuyến tính giữa TimeToStudy và ProfessionalScore')\n",
    "plt.xlim(0, 10)\n",
    "plt.ylim(0, 4)\n",
    "plt.axhline(y=predicted_min, color='g', linestyle='--', label='Dự đoán tại TimeToStudy = 0')\n",
    "plt.axhline(y=predicted_max, color='y', linestyle='--', label='Dự đoán tại TimeToStudy = 10')\n",
    "plt.legend()\n",
    "plt.show()\n",
    "\n",
    "# Hiển thị kết quả dự đoán\n",
    "print(f\"Dự đoán ProfessionalScore tại TimeToStudy = 0: {predicted_min:.2f}\")\n",
    "print(f\"Dự đoán ProfessionalScore tại TimeToStudy = 10: {predicted_max:.2f}\")"
   ]
  },
  {
   "cell_type": "code",
   "execution_count": 24,
   "metadata": {},
   "outputs": [
    {
     "name": "stdout",
     "output_type": "stream",
     "text": [
      "Kích thước của dữ liệu: 1000 hàng, 9 cột.\n"
     ]
    }
   ],
   "source": [
    "data_shape = df.shape\n",
    "print(f\"Kích thước của dữ liệu: {data_shape[0]} hàng, {data_shape[1]} cột.\")"
   ]
  },
  {
   "cell_type": "code",
   "execution_count": 25,
   "metadata": {},
   "outputs": [
    {
     "name": "stdout",
     "output_type": "stream",
     "text": [
      "Kết quả p-value: 0.4267\n",
      "Không bác bỏ giả thuyết không: Trung bình TimeToPlay và TimeToStudy không khác nhau.\n"
     ]
    }
   ],
   "source": [
    "filtered_df = df[(df['Sexuality'] == 'T') & (df['InterviewScore'] == 'B')]\n",
    "\n",
    "# Kiểm tra xem có dữ liệu nào không\n",
    "if filtered_df.empty:\n",
    "    print(\"Không có dữ liệu nào thỏa mãn điều kiện.\")\n",
    "else:\n",
    "    # Lấy dữ liệu cho TimeToPlay và TimeToStudy\n",
    "    time_to_play = filtered_df['TimeToPlay']\n",
    "    time_to_study = filtered_df['TimeToStudy']\n",
    "\n",
    "    # Thực hiện kiểm định t\n",
    "    t_stat, p_value = stats.ttest_ind(time_to_play, time_to_study, equal_var=False)  # Giả thiết phương sai không bằng nhau\n",
    "\n",
    "    # Kết quả\n",
    "    alpha = 0.05  # Mức sai lầm\n",
    "    print(f\"Kết quả p-value: {p_value:.4f}\")\n",
    "    if p_value < alpha:\n",
    "        print(\"Bác bỏ giả thuyết không: Trung bình TimeToPlay và TimeToStudy khác nhau.\")\n",
    "    else:\n",
    "        print(\"Không bác bỏ giả thuyết không: Trung bình TimeToPlay và TimeToStudy không khác nhau.\")"
   ]
  },
  {
   "cell_type": "code",
   "execution_count": 26,
   "metadata": {},
   "outputs": [
    {
     "name": "stdout",
     "output_type": "stream",
     "text": [
      "Giá trị ProfessionalScore = 2.7 thuộc khoảng chia: nan\n"
     ]
    }
   ],
   "source": [
    "bins = [0, 0.2, 0.5, 0.6, 0.8, 1]  # Các khoảng\n",
    "labels = ['A', 'B', 'C', 'D', 'E']  # Nhãn tương ứng\n",
    "\n",
    "# Phân loại ProfessionalScore\n",
    "df['ScoreCategory'] = pd.cut(df['ProfessionalScore'], bins=bins, labels=labels, include_lowest=True)\n",
    "\n",
    "# Giá trị cần kiểm tra\n",
    "value_to_check = 2.7\n",
    "\n",
    "# Kiểm tra giá trị ProfessionalScore = 2.7 thuộc khoảng nào\n",
    "category = df[df['ProfessionalScore'] == value_to_check]['ScoreCategory']\n",
    "\n",
    "if not category.empty:\n",
    "    print(f\"Giá trị ProfessionalScore = {value_to_check} thuộc khoảng chia: {category.values[0]}\")\n",
    "else:\n",
    "    print(f\"Giá trị ProfessionalScore = {value_to_check} không thuộc bất kỳ khoảng nào đã định nghĩa.\")"
   ]
  },
  {
   "cell_type": "code",
   "execution_count": 27,
   "metadata": {},
   "outputs": [
    {
     "name": "stdout",
     "output_type": "stream",
     "text": [
      "                            OLS Regression Results                            \n",
      "==============================================================================\n",
      "Dep. Variable:      ProfessionalScore   R-squared:                       0.003\n",
      "Model:                            OLS   Adj. R-squared:                  0.001\n",
      "Method:                 Least Squares   F-statistic:                     1.253\n",
      "Date:                Wed, 09 Oct 2024   Prob (F-statistic):              0.286\n",
      "Time:                        19:01:04   Log-Likelihood:                -1550.3\n",
      "No. Observations:                1000   AIC:                             3107.\n",
      "Df Residuals:                     997   BIC:                             3121.\n",
      "Df Model:                           2                                         \n",
      "Covariance Type:            nonrobust                                         \n",
      "===============================================================================\n",
      "                  coef    std err          t      P>|t|      [0.025      0.975]\n",
      "-------------------------------------------------------------------------------\n",
      "const           1.8134      0.096     18.860      0.000       1.625       2.002\n",
      "TimeToPlay      0.0187      0.013      1.490      0.137      -0.006       0.043\n",
      "TimeToStudy     0.0062      0.013      0.488      0.626      -0.019       0.031\n",
      "==============================================================================\n",
      "Omnibus:                      473.605   Durbin-Watson:                   1.917\n",
      "Prob(Omnibus):                  0.000   Jarque-Bera (JB):               54.357\n",
      "Skew:                           0.044   Prob(JB):                     1.57e-12\n",
      "Kurtosis:                       1.861   Cond. No.                         20.9\n",
      "==============================================================================\n",
      "\n",
      "Notes:\n",
      "[1] Standard Errors assume that the covariance matrix of the errors is correctly specified.\n",
      "\n",
      "Hệ số hồi quy:\n",
      "TimeToPlay     0.018682\n",
      "TimeToStudy    0.006207\n",
      "dtype: float64\n",
      "\n",
      "Tỷ lệ tác động giữa TimeToStudy và TimeToPlay: 0.33\n"
     ]
    }
   ],
   "source": [
    "# Thêm hằng số vào mô hình\n",
    "X = df[['TimeToPlay', 'TimeToStudy']]\n",
    "X = sm.add_constant(X)  # Thêm hằng số vào mô hình\n",
    "y = df['ProfessionalScore']\n",
    "\n",
    "# Xây dựng mô hình hồi quy\n",
    "model = sm.OLS(y, X).fit()\n",
    "\n",
    "# Kết quả hồi quy\n",
    "print(model.summary())\n",
    "\n",
    "# So sánh mức độ tác động\n",
    "coefficients = model.params[1:]  # Lấy hệ số hồi quy của các biến\n",
    "print(\"\\nHệ số hồi quy:\")\n",
    "print(coefficients)\n",
    "\n",
    "# Tính toán tỷ lệ tác động giữa TimeToStudy và TimeToPlay\n",
    "impact_ratio = coefficients['TimeToStudy'] / coefficients['TimeToPlay']\n",
    "print(f\"\\nTỷ lệ tác động giữa TimeToStudy và TimeToPlay: {impact_ratio:.2f}\")"
   ]
  },
  {
   "cell_type": "code",
   "execution_count": 28,
   "metadata": {},
   "outputs": [
    {
     "name": "stdout",
     "output_type": "stream",
     "text": [
      "                            OLS Regression Results                            \n",
      "==============================================================================\n",
      "Dep. Variable:      ProfessionalScore   R-squared:                       0.003\n",
      "Model:                            OLS   Adj. R-squared:                  0.001\n",
      "Method:                 Least Squares   F-statistic:                     1.253\n",
      "Date:                Wed, 09 Oct 2024   Prob (F-statistic):              0.286\n",
      "Time:                        19:01:50   Log-Likelihood:                -1550.3\n",
      "No. Observations:                1000   AIC:                             3107.\n",
      "Df Residuals:                     997   BIC:                             3121.\n",
      "Df Model:                           2                                         \n",
      "Covariance Type:            nonrobust                                         \n",
      "===============================================================================\n",
      "                  coef    std err          t      P>|t|      [0.025      0.975]\n",
      "-------------------------------------------------------------------------------\n",
      "const           1.8134      0.096     18.860      0.000       1.625       2.002\n",
      "TimeToPlay      0.0187      0.013      1.490      0.137      -0.006       0.043\n",
      "TimeToStudy     0.0062      0.013      0.488      0.626      -0.019       0.031\n",
      "==============================================================================\n",
      "Omnibus:                      473.605   Durbin-Watson:                   1.917\n",
      "Prob(Omnibus):                  0.000   Jarque-Bera (JB):               54.357\n",
      "Skew:                           0.044   Prob(JB):                     1.57e-12\n",
      "Kurtosis:                       1.861   Cond. No.                         20.9\n",
      "==============================================================================\n",
      "\n",
      "Notes:\n",
      "[1] Standard Errors assume that the covariance matrix of the errors is correctly specified.\n"
     ]
    }
   ],
   "source": [
    "# Kết quả hồi quy từ mô hình\n",
    "print(model.summary())\n"
   ]
  },
  {
   "cell_type": "code",
   "execution_count": 29,
   "metadata": {},
   "outputs": [
    {
     "name": "stdout",
     "output_type": "stream",
     "text": [
      "                            OLS Regression Results                            \n",
      "==============================================================================\n",
      "Dep. Variable:      ProfessionalScore   R-squared:                       0.003\n",
      "Model:                            OLS   Adj. R-squared:                  0.001\n",
      "Method:                 Least Squares   F-statistic:                     1.253\n",
      "Date:                Wed, 09 Oct 2024   Prob (F-statistic):              0.286\n",
      "Time:                        19:03:09   Log-Likelihood:                -1550.3\n",
      "No. Observations:                1000   AIC:                             3107.\n",
      "Df Residuals:                     997   BIC:                             3121.\n",
      "Df Model:                           2                                         \n",
      "Covariance Type:            nonrobust                                         \n",
      "===============================================================================\n",
      "                  coef    std err          t      P>|t|      [0.025      0.975]\n",
      "-------------------------------------------------------------------------------\n",
      "const           1.8134      0.096     18.860      0.000       1.625       2.002\n",
      "TimeToPlay      0.0187      0.013      1.490      0.137      -0.006       0.043\n",
      "TimeToStudy     0.0062      0.013      0.488      0.626      -0.019       0.031\n",
      "==============================================================================\n",
      "Omnibus:                      473.605   Durbin-Watson:                   1.917\n",
      "Prob(Omnibus):                  0.000   Jarque-Bera (JB):               54.357\n",
      "Skew:                           0.044   Prob(JB):                     1.57e-12\n",
      "Kurtosis:                       1.861   Cond. No.                         20.9\n",
      "==============================================================================\n",
      "\n",
      "Notes:\n",
      "[1] Standard Errors assume that the covariance matrix of the errors is correctly specified.\n"
     ]
    }
   ],
   "source": [
    "# Đặt biến độc lập và phụ thuộc\n",
    "X = df[['TimeToPlay', 'TimeToStudy']]\n",
    "y = df['ProfessionalScore']\n",
    "\n",
    "# Thêm hằng số vào biến độc lập\n",
    "X = sm.add_constant(X)\n",
    "\n",
    "# Tạo mô hình hồi quy\n",
    "model = sm.OLS(y, X).fit()\n",
    "\n",
    "# In kết quả\n",
    "print(model.summary())\n"
   ]
  },
  {
   "cell_type": "code",
   "execution_count": 30,
   "metadata": {},
   "outputs": [
    {
     "data": {
      "text/plain": [
       "0.48"
      ]
     },
     "execution_count": 30,
     "metadata": {},
     "output_type": "execute_result"
    }
   ],
   "source": [
    "max_value = max(time_to_study)\n",
    "min_value = min(time_to_study)\n",
    "\n",
    "# Số bin\n",
    "num_bins = 20\n",
    "\n",
    "# Tính độ lớn của mỗi bin\n",
    "bin_size = (max_value - min_value) / num_bins\n",
    "bin_size"
   ]
  },
  {
   "cell_type": "code",
   "execution_count": 34,
   "metadata": {},
   "outputs": [
    {
     "data": {
      "text/plain": [
       "1.0"
      ]
     },
     "execution_count": 34,
     "metadata": {},
     "output_type": "execute_result"
    }
   ],
   "source": [
    "professional_scores= df[['ProfessionalScore']]\n",
    "Q1 = np.percentile(professional_scores, 25)\n",
    "Q1"
   ]
  },
  {
   "cell_type": "code",
   "execution_count": 35,
   "metadata": {},
   "outputs": [
    {
     "data": {
      "text/plain": [
       "1.0"
      ]
     },
     "execution_count": 35,
     "metadata": {},
     "output_type": "execute_result"
    }
   ],
   "source": [
    "Q1 = df['ProfessionalScore'].quantile(0.25)\n",
    "Q1"
   ]
  },
  {
   "cell_type": "code",
   "execution_count": 36,
   "metadata": {},
   "outputs": [
    {
     "data": {
      "text/plain": [
       "(-1.8499999999999996, 5.75)"
      ]
     },
     "execution_count": 36,
     "metadata": {},
     "output_type": "execute_result"
    }
   ],
   "source": [
    "Q1 = np.percentile(professional_scores, 25)\n",
    "Q3 = np.percentile(professional_scores, 75)\n",
    "\n",
    "# Tính IQR\n",
    "IQR = Q3 - Q1\n",
    "\n",
    "# Xác định khoảng nghi ngờ bất thường\n",
    "lower_bound = Q1 - 1.5 * IQR\n",
    "upper_bound = Q3 + 1.5 * IQR\n",
    "\n",
    "lower_bound, upper_bound"
   ]
  },
  {
   "cell_type": "code",
   "execution_count": 40,
   "metadata": {},
   "outputs": [
    {
     "name": "stdout",
     "output_type": "stream",
     "text": [
      "Giá trị Q1: 1.0\n",
      "Giá trị Q3: 2.9\n",
      "IQR: 1.9\n",
      "Ngưỡng dưới: -1.8499999999999996\n",
      "Ngưỡng trên: 5.75\n",
      "Điểm ngoại lệ:\n",
      "Empty DataFrame\n",
      "Columns: [TimeToPlay, TimeToStudy, ProfessionalScore, InterviewScore, Sexuality, ExpectedSalary, SocialNetworkingTimeUse, Result, StudyCategory, ScoreCategory]\n",
      "Index: []\n"
     ]
    }
   ],
   "source": [
    "# Tính toán Q1, Q3 và IQR\n",
    "Q1 = df['ProfessionalScore'].quantile(0.25)\n",
    "Q3 = df['ProfessionalScore'].quantile(0.75)\n",
    "IQR = Q3 - Q1\n",
    "\n",
    "# Xác định ngưỡng ngoại lệ\n",
    "lower_bound = Q1 - 1.5 * IQR\n",
    "upper_bound = Q3 + 1.5 * IQR\n",
    "\n",
    "# Tìm các điểm ngoại lệ\n",
    "outliers = df[(df['ProfessionalScore'] < lower_bound) | (df['ProfessionalScore'] > upper_bound)]\n",
    "\n",
    "# Kết quả\n",
    "print(f\"Giá trị Q1: {Q1}\")\n",
    "print(f\"Giá trị Q3: {Q3}\")\n",
    "print(f\"IQR: {IQR}\")\n",
    "print(f\"Ngưỡng dưới: {lower_bound}\")\n",
    "print(f\"Ngưỡng trên: {upper_bound}\")\n",
    "print(\"Điểm ngoại lệ:\")\n",
    "print(outliers)"
   ]
  },
  {
   "cell_type": "code",
   "execution_count": 39,
   "metadata": {},
   "outputs": [
    {
     "name": "stdout",
     "output_type": "stream",
     "text": [
      "Potential outliers in TimeToPlay: []\n"
     ]
    }
   ],
   "source": [
    "mean = np.mean(df['TimeToPlay'])\n",
    "std_dev = np.std(df['TimeToPlay'])\n",
    "\n",
    "# Calculate Z-scores\n",
    "z_scores = [(x - mean) / std_dev for x in df['TimeToPlay']]\n",
    "\n",
    "# Identify outliers based on Z-scores (e.g., absolute value greater than 3)\n",
    "outliers = [x for x, z in zip(df['TimeToPlay'], z_scores) if abs(z) > 3]\n",
    "\n",
    "print(\"Potential outliers in TimeToPlay:\", outliers)"
   ]
  },
  {
   "cell_type": "code",
   "execution_count": 41,
   "metadata": {},
   "outputs": [
    {
     "data": {
      "image/png": "[encoded data removed]",
      "text/plain": [
       "<Figure size 576x432 with 1 Axes>"
      ]
     },
     "metadata": {
      "needs_background": "light"
     },
     "output_type": "display_data"
    }
   ],
   "source": [
    "plt.figure(figsize=(8, 6))\n",
    "sns.boxplot(y=df['ProfessionalScore'])\n",
    "plt.title('Box-Plot of Professional Score')\n",
    "plt.ylabel('Professional Score')\n",
    "plt.grid(axis='y')\n",
    "\n",
    "# Hiển thị biểu đồ\n",
    "plt.show()"
   ]
  },
  {
   "cell_type": "code",
   "execution_count": 42,
   "metadata": {},
   "outputs": [
    {
     "data": {
      "image/png": "[encoded data removed]",
      "text/plain": [
       "<Figure size 720x432 with 1 Axes>"
      ]
     },
     "metadata": {
      "needs_background": "light"
     },
     "output_type": "display_data"
    },
    {
     "name": "stdout",
     "output_type": "stream",
     "text": [
      "Dự báo điểm thi kỹ năng trong khoảng: [1.70, 1.91]\n"
     ]
    }
   ],
   "source": [
    "filtered_df = df[(df['Sexuality'] == 'G') & (df['Result'] == 'NO')]\n",
    "\n",
    "# Kiểm tra xem có dữ liệu sau khi lọc không\n",
    "if not filtered_df.empty:\n",
    "    # Tạo mô hình hồi quy tuyến tính\n",
    "    X = filtered_df[['TimeToStudy']]\n",
    "    y = filtered_df['ProfessionalScore']\n",
    "    \n",
    "    model = LinearRegression()\n",
    "    model.fit(X, y)\n",
    "\n",
    "    # Dự đoán giá trị\n",
    "    time_to_study_range = np.linspace(X['TimeToStudy'].min(), X['TimeToStudy'].max(), 100).reshape(-1, 1)\n",
    "    predictions = model.predict(time_to_study_range)\n",
    "\n",
    "    # Kết quả\n",
    "    predicted_min = predictions.min()\n",
    "    predicted_max = predictions.max()\n",
    "\n",
    "    # Vẽ biểu đồ\n",
    "    plt.figure(figsize=(10, 6))\n",
    "    plt.scatter(X, y, color='blue', label='Dữ liệu thực tế')\n",
    "    plt.plot(time_to_study_range, predictions, color='red', label='Mô hình hồi quy tuyến tính')\n",
    "    plt.title('Hồi quy tuyến tính giữa Thời gian tự học và Điểm thi kỹ năng')\n",
    "    plt.xlabel('Thời gian tự học (TimeToStudy)')\n",
    "    plt.ylabel('Điểm thi kỹ năng (ProfessionalScore)')\n",
    "    plt.legend()\n",
    "    plt.grid()\n",
    "    plt.show()\n",
    "\n",
    "    print(f\"Dự báo điểm thi kỹ năng trong khoảng: [{predicted_min:.2f}, {predicted_max:.2f}]\")\n",
    "else:\n",
    "    print(\"Không có dữ liệu nào với giới tính là 'G' và kết quả phỏng vấn là 'NO'.\")"
   ]
  },
  {
   "cell_type": "code",
   "execution_count": 43,
   "metadata": {},
   "outputs": [
    {
     "name": "stdout",
     "output_type": "stream",
     "text": [
      "25% số lượng sinh viên có điểm đánh giá năng lực cao hơn: 1.00\n"
     ]
    }
   ],
   "source": [
    "# Tính Q1\n",
    "Q1 = df['ProfessionalScore'].quantile(0.25)\n",
    "\n",
    "print(f\"25% số lượng sinh viên có điểm đánh giá năng lực cao hơn: {Q1:.2f}\")"
   ]
  },
  {
   "cell_type": "code",
   "execution_count": 44,
   "metadata": {},
   "outputs": [
    {
     "name": "stdout",
     "output_type": "stream",
     "text": [
      "     ProfessionalScore ScoreCategory\n",
      "0                  2.5           NaN\n",
      "1                  3.7           NaN\n",
      "2                  2.7           NaN\n",
      "3                  2.7           NaN\n",
      "4                  0.2             B\n",
      "..                 ...           ...\n",
      "995                1.2           NaN\n",
      "996                2.8           NaN\n",
      "997                1.3           NaN\n",
      "998                3.3           NaN\n",
      "999                0.3             B\n",
      "\n",
      "[1000 rows x 2 columns]\n"
     ]
    }
   ],
   "source": [
    "# Định nghĩa các khoảng phân vị và nhãn\n",
    "bins = [0, 0.2, 0.5, 0.6, 0.8, 1]  # Các khoảng phân vị\n",
    "labels = ['A', 'B', 'C', 'D', 'E']  # Nhãn tương ứng\n",
    "\n",
    "# Thực hiện phân loại ProfessionalScore\n",
    "df['ScoreCategory'] = pd.cut(df['ProfessionalScore'], bins=bins, labels=labels, right=False)\n",
    "\n",
    "# Hiển thị kết quả\n",
    "print(df[['ProfessionalScore', 'ScoreCategory']])"
   ]
  },
  {
   "cell_type": "code",
   "execution_count": 45,
   "metadata": {},
   "outputs": [
    {
     "name": "stdout",
     "output_type": "stream",
     "text": [
      "Giá trị Chi-squared: 8.57, p-value: 0.9301\n",
      "Không có sự phụ thuộc giữa kết quả phỏng vấn và nhóm xu hướng tính dục.\n"
     ]
    }
   ],
   "source": [
    "contingency_table = pd.crosstab(df['InterviewScore'], df['Sexuality'])\n",
    "\n",
    "# Thực hiện kiểm tra Chi-squared\n",
    "chi2, p, _, _ = stats.chi2_contingency(contingency_table)\n",
    "\n",
    "# Kết quả\n",
    "alpha = 0.05\n",
    "print(f'Giá trị Chi-squared: {chi2:.2f}, p-value: {p:.4f}')\n",
    "if p < alpha:\n",
    "    print(\"Có sự phụ thuộc giữa kết quả phỏng vấn và nhóm xu hướng tính dục.\")\n",
    "else:\n",
    "    print(\"Không có sự phụ thuộc giữa kết quả phỏng vấn và nhóm xu hướng tính dục.\")"
   ]
  },
  {
   "cell_type": "code",
   "execution_count": 46,
   "metadata": {},
   "outputs": [
    {
     "name": "stdout",
     "output_type": "stream",
     "text": [
      "Trung bình mẫu: 1.9397, Độ lệch chuẩn: 1.1424, t-statistic: -14.3334, p-value: 0.0000\n",
      "Có đủ bằng chứng để bác bỏ giả thuyết rằng trung bình điểm đánh giá năng lực là 2.4575.\n"
     ]
    }
   ],
   "source": [
    "mean = df['ProfessionalScore'].mean()\n",
    "std_dev = df['ProfessionalScore'].std(ddof=1)  # Độ lệch chuẩn mẫu\n",
    "n = len(df['ProfessionalScore'])  # Số lượng mẫu\n",
    "\n",
    "# Giả thuyết không\n",
    "hypothesized_mean = 2.4575\n",
    "\n",
    "# Tính t-statistic\n",
    "t_statistic = (mean - hypothesized_mean) / (std_dev / (n ** 0.5))\n",
    "\n",
    "# Tính p-value cho kiểm tra hai phía\n",
    "p_value = stats.t.sf(abs(t_statistic), df=n-1) * 2\n",
    "\n",
    "# Kết quả\n",
    "alpha = 0.05\n",
    "print(f'Trung bình mẫu: {mean:.4f}, Độ lệch chuẩn: {std_dev:.4f}, t-statistic: {t_statistic:.4f}, p-value: {p_value:.4f}')\n",
    "if p_value < alpha:\n",
    "    print(\"Có đủ bằng chứng để bác bỏ giả thuyết rằng trung bình điểm đánh giá năng lực là 2.4575.\")\n",
    "else:\n",
    "    print(\"Không có đủ bằng chứng để bác bỏ giả thuyết rằng trung bình điểm đánh giá năng lực là 2.4575.\")"
   ]
  },
  {
   "cell_type": "code",
   "execution_count": 47,
   "metadata": {},
   "outputs": [
    {
     "name": "stdout",
     "output_type": "stream",
     "text": [
      "Giá trị đa số của điểm phỏng vấn là: D\n"
     ]
    }
   ],
   "source": [
    "mode_value = df['InterviewScore'].mode()[0]\n",
    "\n",
    "# Hiển thị kết quả\n",
    "print(f'Giá trị đa số của điểm phỏng vấn là: {mode_value}')\n"
   ]
  },
  {
   "cell_type": "code",
   "execution_count": 48,
   "metadata": {},
   "outputs": [
    {
     "name": "stdout",
     "output_type": "stream",
     "text": [
      "Số phần tử thuộc nhóm nhãn \"Good\": 201\n"
     ]
    }
   ],
   "source": [
    "# Định nghĩa các khoảng và nhãn\n",
    "bins = [0, 5, 7, 9, float('inf')]  # Khoảng giá trị\n",
    "labels = ['Bad', 'Pretty', 'Good', 'Excellent']  # Nhãn tương ứng\n",
    "\n",
    "# Phân chia TimeToStudy và gán nhãn\n",
    "df['StudyCategory'] = pd.cut(df['TimeToStudy'], bins=bins, labels=labels, right=False)\n",
    "\n",
    "# Đếm số phần tử thuộc nhóm nhãn 'Good'\n",
    "count_good = df[df['StudyCategory'] == 'Good'].shape[0]\n",
    "\n",
    "# Hiển thị kết quả\n",
    "print(f'Số phần tử thuộc nhóm nhãn \"Good\": {count_good}')"
   ]
  }
 ],
 "metadata": {
  "kernelspec": {
   "display_name": "base",
   "language": "python",
   "name": "python3"
  },
  "language_info": {
   "codemirror_mode": {
    "name": "ipython",
    "version": 3
   },
   "file_extension": ".py",
   "mimetype": "text/x-python",
   "name": "python",
   "nbconvert_exporter": "python",
   "pygments_lexer": "ipython3",
   "version": "3.8.5"
  }
 },
 "nbformat": 4,
 "nbformat_minor": 2
}
