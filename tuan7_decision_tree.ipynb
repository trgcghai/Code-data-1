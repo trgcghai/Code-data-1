{
 "cells": [
  {
   "cell_type": "code",
   "execution_count": 15,
   "metadata": {},
   "outputs": [],
   "source": [
    "import pandas as pd \n",
    "from sklearn.tree import DecisionTreeClassifier\n",
    "from sklearn.model_selection import train_test_split\n",
    "from sklearn import metrics"
   ]
  },
  {
   "cell_type": "code",
   "execution_count": 16,
   "metadata": {},
   "outputs": [
    {
     "data": {
      "text/html": [
       "<div>\n",
       "<style scoped>\n",
       "    .dataframe tbody tr th:only-of-type {\n",
       "        vertical-align: middle;\n",
       "    }\n",
       "\n",
       "    .dataframe tbody tr th {\n",
       "        vertical-align: top;\n",
       "    }\n",
       "\n",
       "    .dataframe thead th {\n",
       "        text-align: right;\n",
       "    }\n",
       "</style>\n",
       "<table border=\"1\" class=\"dataframe\">\n",
       "  <thead>\n",
       "    <tr style=\"text-align: right;\">\n",
       "      <th></th>\n",
       "      <th>Sức khỏe</th>\n",
       "      <th>Thời tiết</th>\n",
       "      <th>Kết quả</th>\n",
       "    </tr>\n",
       "  </thead>\n",
       "  <tbody>\n",
       "    <tr>\n",
       "      <th>0</th>\n",
       "      <td>ốm</td>\n",
       "      <td>u ám</td>\n",
       "      <td>nghỉ</td>\n",
       "    </tr>\n",
       "    <tr>\n",
       "      <th>1</th>\n",
       "      <td>ốm</td>\n",
       "      <td>mưa</td>\n",
       "      <td>nghỉ</td>\n",
       "    </tr>\n",
       "    <tr>\n",
       "      <th>2</th>\n",
       "      <td>ốm</td>\n",
       "      <td>nắng</td>\n",
       "      <td>nghỉ</td>\n",
       "    </tr>\n",
       "    <tr>\n",
       "      <th>3</th>\n",
       "      <td>ốm</td>\n",
       "      <td>u ám</td>\n",
       "      <td>học</td>\n",
       "    </tr>\n",
       "    <tr>\n",
       "      <th>4</th>\n",
       "      <td>tốt</td>\n",
       "      <td>u ám</td>\n",
       "      <td>học</td>\n",
       "    </tr>\n",
       "    <tr>\n",
       "      <th>5</th>\n",
       "      <td>tốt</td>\n",
       "      <td>mưa</td>\n",
       "      <td>học</td>\n",
       "    </tr>\n",
       "    <tr>\n",
       "      <th>6</th>\n",
       "      <td>tốt</td>\n",
       "      <td>nắng</td>\n",
       "      <td>nghỉ</td>\n",
       "    </tr>\n",
       "  </tbody>\n",
       "</table>\n",
       "</div>"
      ],
      "text/plain": [
       "  Sức khỏe Thời tiết Kết quả\n",
       "0       ốm      u ám    nghỉ\n",
       "1       ốm       mưa    nghỉ\n",
       "2       ốm      nắng    nghỉ\n",
       "3       ốm      u ám     học\n",
       "4      tốt      u ám     học\n",
       "5      tốt       mưa     học\n",
       "6      tốt      nắng    nghỉ"
      ]
     },
     "execution_count": 16,
     "metadata": {},
     "output_type": "execute_result"
    }
   ],
   "source": [
    "df = pd.read_excel('lophoc.xlsx', sheet_name='data')\n",
    "df"
   ]
  },
  {
   "cell_type": "code",
   "execution_count": 17,
   "metadata": {},
   "outputs": [
    {
     "data": {
      "text/html": [
       "<div>\n",
       "<style scoped>\n",
       "    .dataframe tbody tr th:only-of-type {\n",
       "        vertical-align: middle;\n",
       "    }\n",
       "\n",
       "    .dataframe tbody tr th {\n",
       "        vertical-align: top;\n",
       "    }\n",
       "\n",
       "    .dataframe thead th {\n",
       "        text-align: right;\n",
       "    }\n",
       "</style>\n",
       "<table border=\"1\" class=\"dataframe\">\n",
       "  <thead>\n",
       "    <tr style=\"text-align: right;\">\n",
       "      <th></th>\n",
       "      <th>Sức khỏe</th>\n",
       "      <th>Thời tiết</th>\n",
       "    </tr>\n",
       "  </thead>\n",
       "  <tbody>\n",
       "    <tr>\n",
       "      <th>0</th>\n",
       "      <td>ốm</td>\n",
       "      <td>u ám</td>\n",
       "    </tr>\n",
       "    <tr>\n",
       "      <th>1</th>\n",
       "      <td>ốm</td>\n",
       "      <td>mưa</td>\n",
       "    </tr>\n",
       "    <tr>\n",
       "      <th>2</th>\n",
       "      <td>ốm</td>\n",
       "      <td>nắng</td>\n",
       "    </tr>\n",
       "    <tr>\n",
       "      <th>3</th>\n",
       "      <td>ốm</td>\n",
       "      <td>u ám</td>\n",
       "    </tr>\n",
       "    <tr>\n",
       "      <th>4</th>\n",
       "      <td>tốt</td>\n",
       "      <td>u ám</td>\n",
       "    </tr>\n",
       "    <tr>\n",
       "      <th>5</th>\n",
       "      <td>tốt</td>\n",
       "      <td>mưa</td>\n",
       "    </tr>\n",
       "    <tr>\n",
       "      <th>6</th>\n",
       "      <td>tốt</td>\n",
       "      <td>nắng</td>\n",
       "    </tr>\n",
       "  </tbody>\n",
       "</table>\n",
       "</div>"
      ],
      "text/plain": [
       "  Sức khỏe Thời tiết\n",
       "0       ốm      u ám\n",
       "1       ốm       mưa\n",
       "2       ốm      nắng\n",
       "3       ốm      u ám\n",
       "4      tốt      u ám\n",
       "5      tốt       mưa\n",
       "6      tốt      nắng"
      ]
     },
     "execution_count": 17,
     "metadata": {},
     "output_type": "execute_result"
    }
   ],
   "source": [
    "# tập dữ liệu input và output\n",
    "X = df.iloc[:,:-1] # features\n",
    "y = df.iloc[:, -1] # target\n",
    "\n",
    "X"
   ]
  },
  {
   "cell_type": "code",
   "execution_count": 18,
   "metadata": {},
   "outputs": [
    {
     "data": {
      "text/plain": [
       "0    nghỉ\n",
       "1    nghỉ\n",
       "2    nghỉ\n",
       "3     học\n",
       "4     học\n",
       "5     học\n",
       "6    nghỉ\n",
       "Name: Kết quả, dtype: object"
      ]
     },
     "execution_count": 18,
     "metadata": {},
     "output_type": "execute_result"
    }
   ],
   "source": [
    "y"
   ]
  },
  {
   "cell_type": "code",
   "execution_count": 19,
   "metadata": {},
   "outputs": [
    {
     "name": "stderr",
     "output_type": "stream",
     "text": [
      "C:\\Users\\Admin\\AppData\\Local\\Temp\\ipykernel_32464\\928336251.py:6: SettingWithCopyWarning: \n",
      "A value is trying to be set on a copy of a slice from a DataFrame.\n",
      "Try using .loc[row_indexer,col_indexer] = value instead\n",
      "\n",
      "See the caveats in the documentation: https://pandas.pydata.org/pandas-docs/stable/user_guide/indexing.html#returning-a-view-versus-a-copy\n",
      "  X['Sức khỏe'] = encHealth.fit_transform(X['Sức khỏe'])\n",
      "C:\\Users\\Admin\\AppData\\Local\\Temp\\ipykernel_32464\\928336251.py:9: SettingWithCopyWarning: \n",
      "A value is trying to be set on a copy of a slice from a DataFrame.\n",
      "Try using .loc[row_indexer,col_indexer] = value instead\n",
      "\n",
      "See the caveats in the documentation: https://pandas.pydata.org/pandas-docs/stable/user_guide/indexing.html#returning-a-view-versus-a-copy\n",
      "  X['Thời tiết'] = encWeather.fit_transform(X['Thời tiết'])\n"
     ]
    },
    {
     "data": {
      "text/html": [
       "<div>\n",
       "<style scoped>\n",
       "    .dataframe tbody tr th:only-of-type {\n",
       "        vertical-align: middle;\n",
       "    }\n",
       "\n",
       "    .dataframe tbody tr th {\n",
       "        vertical-align: top;\n",
       "    }\n",
       "\n",
       "    .dataframe thead th {\n",
       "        text-align: right;\n",
       "    }\n",
       "</style>\n",
       "<table border=\"1\" class=\"dataframe\">\n",
       "  <thead>\n",
       "    <tr style=\"text-align: right;\">\n",
       "      <th></th>\n",
       "      <th>Sức khỏe</th>\n",
       "      <th>Thời tiết</th>\n",
       "    </tr>\n",
       "  </thead>\n",
       "  <tbody>\n",
       "    <tr>\n",
       "      <th>0</th>\n",
       "      <td>1</td>\n",
       "      <td>2</td>\n",
       "    </tr>\n",
       "    <tr>\n",
       "      <th>1</th>\n",
       "      <td>1</td>\n",
       "      <td>0</td>\n",
       "    </tr>\n",
       "    <tr>\n",
       "      <th>2</th>\n",
       "      <td>1</td>\n",
       "      <td>1</td>\n",
       "    </tr>\n",
       "    <tr>\n",
       "      <th>3</th>\n",
       "      <td>1</td>\n",
       "      <td>2</td>\n",
       "    </tr>\n",
       "    <tr>\n",
       "      <th>4</th>\n",
       "      <td>0</td>\n",
       "      <td>2</td>\n",
       "    </tr>\n",
       "    <tr>\n",
       "      <th>5</th>\n",
       "      <td>0</td>\n",
       "      <td>0</td>\n",
       "    </tr>\n",
       "    <tr>\n",
       "      <th>6</th>\n",
       "      <td>0</td>\n",
       "      <td>1</td>\n",
       "    </tr>\n",
       "  </tbody>\n",
       "</table>\n",
       "</div>"
      ],
      "text/plain": [
       "   Sức khỏe  Thời tiết\n",
       "0         1          2\n",
       "1         1          0\n",
       "2         1          1\n",
       "3         1          2\n",
       "4         0          2\n",
       "5         0          0\n",
       "6         0          1"
      ]
     },
     "execution_count": 19,
     "metadata": {},
     "output_type": "execute_result"
    }
   ],
   "source": [
    "# chuyển kiểu string về số\n",
    "\n",
    "from sklearn.preprocessing import LabelEncoder\n",
    "\n",
    "encHealth = LabelEncoder()\n",
    "X['Sức khỏe'] = encHealth.fit_transform(X['Sức khỏe'])\n",
    "\n",
    "encWeather = LabelEncoder()\n",
    "X['Thời tiết'] = encWeather.fit_transform(X['Thời tiết'])\n",
    "\n",
    "X"
   ]
  },
  {
   "cell_type": "code",
   "execution_count": 29,
   "metadata": {},
   "outputs": [
    {
     "data": {
      "text/plain": [
       "(   Sức khỏe  Thời tiết\n",
       " 4         0          2\n",
       " 6         0          1\n",
       " 5         0          0\n",
       " 2         1          1\n",
       " 1         1          0,\n",
       " 4     học\n",
       " 6    nghỉ\n",
       " 5     học\n",
       " 2    nghỉ\n",
       " 1    nghỉ\n",
       " Name: Kết quả, dtype: object)"
      ]
     },
     "execution_count": 29,
     "metadata": {},
     "output_type": "execute_result"
    }
   ],
   "source": [
    "# chia tập dữ liệu\n",
    "\n",
    "X_train, X_test, y_train, y_test = train_test_split(X, y, test_size=0.2, random_state=34)\n",
    "\n",
    "X_train, y_train"
   ]
  },
  {
   "cell_type": "code",
   "execution_count": 21,
   "metadata": {},
   "outputs": [],
   "source": [
    "# tạo model với phương pháp phân nhánh gốc là dùng entropy\n",
    "modelDT = DecisionTreeClassifier(criterion='entropy', max_depth=3)\n",
    "\n",
    "# train model\n",
    "modelDT = modelDT.fit(X_train, y_train)"
   ]
  },
  {
   "cell_type": "code",
   "execution_count": 22,
   "metadata": {},
   "outputs": [
    {
     "data": {
      "text/plain": [
       "array(['học', 'nghỉ'], dtype=object)"
      ]
     },
     "execution_count": 22,
     "metadata": {},
     "output_type": "execute_result"
    }
   ],
   "source": [
    "modelDT.classes_"
   ]
  },
  {
   "cell_type": "code",
   "execution_count": 23,
   "metadata": {},
   "outputs": [
    {
     "data": {
      "image/png": "[encoded data removed]",
      "text/plain": [
       "<Figure size 1500x1000 with 1 Axes>"
      ]
     },
     "metadata": {},
     "output_type": "display_data"
    }
   ],
   "source": [
    "from sklearn.tree import plot_tree\n",
    "import matplotlib.pyplot as plt\n",
    "\n",
    "feature_cols = X_train.columns\n",
    "\n",
    "plt.figure(figsize=(15,10))\n",
    "plot_tree(modelDT, feature_names=feature_cols, class_names=modelDT.classes_, fontsize=8, filled=True)\n",
    "plt.show()"
   ]
  },
  {
   "cell_type": "code",
   "execution_count": 24,
   "metadata": {},
   "outputs": [
    {
     "name": "stdout",
     "output_type": "stream",
     "text": [
      "Accuracy: 0.5\n"
     ]
    }
   ],
   "source": [
    "# thực hiện dự đoán\n",
    "y_test_pred = modelDT.predict(X_test)\n",
    "\n",
    "# Đánh giá mô hình bằng độ đo accuracy\n",
    "print(f'Accuracy: {metrics.accuracy_score(y_test, y_test_pred)}')"
   ]
  },
  {
   "cell_type": "code",
   "execution_count": 25,
   "metadata": {},
   "outputs": [
    {
     "name": "stdout",
     "output_type": "stream",
     "text": [
      "0, 1, 0, 1\n"
     ]
    }
   ],
   "source": [
    "# tạo confusion matrix\n",
    "\n",
    "from sklearn.metrics import confusion_matrix\n",
    "cf_matrix = confusion_matrix(y_test, y_test_pred)\n",
    "\n",
    "#tn 0\n",
    "#fp 2\n",
    "#fn 0\n",
    "#tp 0\n",
    "\n",
    "cf_matrix\n",
    "\n",
    "tn, fp, fn, tp = cf_matrix.ravel()\n",
    "\n",
    "print(f'{tn}, {fp}, {fn}, {tp}')"
   ]
  },
  {
   "cell_type": "code",
   "execution_count": 26,
   "metadata": {},
   "outputs": [
    {
     "name": "stdout",
     "output_type": "stream",
     "text": [
      "tpr: 1.0\n",
      "fnr: 0.0\n",
      "fpr: 1.0\n",
      "tnr: 0.0\n"
     ]
    }
   ],
   "source": [
    "# sinh viên tự tính tpr, fnr, fpr, tnr\n",
    "\n",
    "print(f'tpr: {tp / (tp + fn)}')\n",
    "print(f'fnr: {fn / (tp + fn)}')\n",
    "print(f'fpr: {fp / (fp + tn)}')\n",
    "print(f'tnr: {tn / (fp + tn)}')\n"
   ]
  },
  {
   "cell_type": "code",
   "execution_count": 27,
   "metadata": {},
   "outputs": [],
   "source": [
    "# sinh viên tự vẽ auc, roc\n",
    "from sklearn.metrics import roc_curve, auc"
   ]
  },
  {
   "cell_type": "code",
   "execution_count": 28,
   "metadata": {},
   "outputs": [
    {
     "name": "stderr",
     "output_type": "stream",
     "text": [
      "c:\\Users\\Admin\\AppData\\Local\\Programs\\Python\\Python312\\Lib\\site-packages\\sklearn\\base.py:493: UserWarning: X does not have valid feature names, but DecisionTreeClassifier was fitted with feature names\n",
      "  warnings.warn(\n"
     ]
    },
    {
     "data": {
      "text/plain": [
       "array(['nghỉ'], dtype=object)"
      ]
     },
     "execution_count": 28,
     "metadata": {},
     "output_type": "execute_result"
    }
   ],
   "source": [
    "# xây dựng chương trình dự báo\n",
    "import numpy as np\n",
    "health = 'ốm'\n",
    "health_scaled = encHealth.transform([health])\n",
    "\n",
    "weather = 'nắng'\n",
    "weather_scaled = encWeather.transform([weather])\n",
    "\n",
    "feature_sample = np.array([health_scaled[0], weather_scaled[0]])\n",
    "\n",
    "y_sample_pred = modelDT.predict([feature_sample])\n",
    "y_sample_pred"
   ]
  },
  {
   "cell_type": "code",
   "execution_count": null,
   "metadata": {},
   "outputs": [],
   "source": []
  }
 ],
 "metadata": {
  "kernelspec": {
   "display_name": "Python 3",
   "language": "python",
   "name": "python3"
  },
  "language_info": {
   "codemirror_mode": {
    "name": "ipython",
    "version": 3
   },
   "file_extension": ".py",
   "mimetype": "text/x-python",
   "name": "python",
   "nbconvert_exporter": "python",
   "pygments_lexer": "ipython3",
   "version": "3.12.0"
  }
 },
 "nbformat": 4,
 "nbformat_minor": 2
}
