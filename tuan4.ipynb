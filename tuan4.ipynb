{
 "cells": [
  {
   "cell_type": "code",
   "execution_count": 1,
   "metadata": {},
   "outputs": [
    {
     "data": {
      "text/html": [
       "<div>\n",
       "<style scoped>\n",
       "    .dataframe tbody tr th:only-of-type {\n",
       "        vertical-align: middle;\n",
       "    }\n",
       "\n",
       "    .dataframe tbody tr th {\n",
       "        vertical-align: top;\n",
       "    }\n",
       "\n",
       "    .dataframe thead th {\n",
       "        text-align: right;\n",
       "    }\n",
       "</style>\n",
       "<table border=\"1\" class=\"dataframe\">\n",
       "  <thead>\n",
       "    <tr style=\"text-align: right;\">\n",
       "      <th></th>\n",
       "      <th>MSSV</th>\n",
       "      <th>GT</th>\n",
       "      <th>DT</th>\n",
       "      <th>KV</th>\n",
       "      <th>M1</th>\n",
       "      <th>M2</th>\n",
       "      <th>M3</th>\n",
       "      <th>KT</th>\n",
       "      <th>NT</th>\n",
       "      <th>NGHE</th>\n",
       "    </tr>\n",
       "  </thead>\n",
       "  <tbody>\n",
       "    <tr>\n",
       "      <th>0</th>\n",
       "      <td>SV001</td>\n",
       "      <td>F</td>\n",
       "      <td>NaN</td>\n",
       "      <td>2NT</td>\n",
       "      <td>3.25</td>\n",
       "      <td>3.25</td>\n",
       "      <td>4.50</td>\n",
       "      <td>A1</td>\n",
       "      <td>12/7/2018</td>\n",
       "      <td>No</td>\n",
       "    </tr>\n",
       "    <tr>\n",
       "      <th>1</th>\n",
       "      <td>SV002</td>\n",
       "      <td>M</td>\n",
       "      <td>NaN</td>\n",
       "      <td>1</td>\n",
       "      <td>6.00</td>\n",
       "      <td>4.00</td>\n",
       "      <td>3.50</td>\n",
       "      <td>C</td>\n",
       "      <td>12/7/2018</td>\n",
       "      <td>Yes</td>\n",
       "    </tr>\n",
       "    <tr>\n",
       "      <th>2</th>\n",
       "      <td>SV003</td>\n",
       "      <td>M</td>\n",
       "      <td>NaN</td>\n",
       "      <td>1</td>\n",
       "      <td>5.00</td>\n",
       "      <td>6.75</td>\n",
       "      <td>4.00</td>\n",
       "      <td>C</td>\n",
       "      <td>12/7/2018</td>\n",
       "      <td>No</td>\n",
       "    </tr>\n",
       "    <tr>\n",
       "      <th>3</th>\n",
       "      <td>SV004</td>\n",
       "      <td>M</td>\n",
       "      <td>NaN</td>\n",
       "      <td>1</td>\n",
       "      <td>4.25</td>\n",
       "      <td>4.25</td>\n",
       "      <td>5.25</td>\n",
       "      <td>D1</td>\n",
       "      <td>12/7/2018</td>\n",
       "      <td>No</td>\n",
       "    </tr>\n",
       "    <tr>\n",
       "      <th>4</th>\n",
       "      <td>SV005</td>\n",
       "      <td>M</td>\n",
       "      <td>NaN</td>\n",
       "      <td>2NT</td>\n",
       "      <td>4.25</td>\n",
       "      <td>4.50</td>\n",
       "      <td>5.00</td>\n",
       "      <td>A</td>\n",
       "      <td>12/7/2018</td>\n",
       "      <td>No</td>\n",
       "    </tr>\n",
       "    <tr>\n",
       "      <th>...</th>\n",
       "      <td>...</td>\n",
       "      <td>...</td>\n",
       "      <td>...</td>\n",
       "      <td>...</td>\n",
       "      <td>...</td>\n",
       "      <td>...</td>\n",
       "      <td>...</td>\n",
       "      <td>...</td>\n",
       "      <td>...</td>\n",
       "      <td>...</td>\n",
       "    </tr>\n",
       "    <tr>\n",
       "      <th>95</th>\n",
       "      <td>SV0096</td>\n",
       "      <td>F</td>\n",
       "      <td>NaN</td>\n",
       "      <td>1</td>\n",
       "      <td>5.25</td>\n",
       "      <td>1.50</td>\n",
       "      <td>6.25</td>\n",
       "      <td>C</td>\n",
       "      <td>7/20/2022</td>\n",
       "      <td>Yes</td>\n",
       "    </tr>\n",
       "    <tr>\n",
       "      <th>96</th>\n",
       "      <td>SV0097</td>\n",
       "      <td>F</td>\n",
       "      <td>NaN</td>\n",
       "      <td>1</td>\n",
       "      <td>5.25</td>\n",
       "      <td>3.75</td>\n",
       "      <td>4.75</td>\n",
       "      <td>C</td>\n",
       "      <td>7/20/2022</td>\n",
       "      <td>No</td>\n",
       "    </tr>\n",
       "    <tr>\n",
       "      <th>97</th>\n",
       "      <td>SV0098</td>\n",
       "      <td>M</td>\n",
       "      <td>NaN</td>\n",
       "      <td>2NT</td>\n",
       "      <td>7.00</td>\n",
       "      <td>8.00</td>\n",
       "      <td>4.00</td>\n",
       "      <td>C</td>\n",
       "      <td>7/20/2022</td>\n",
       "      <td>Yes</td>\n",
       "    </tr>\n",
       "    <tr>\n",
       "      <th>98</th>\n",
       "      <td>SV0099</td>\n",
       "      <td>M</td>\n",
       "      <td>NaN</td>\n",
       "      <td>1</td>\n",
       "      <td>5.00</td>\n",
       "      <td>3.50</td>\n",
       "      <td>5.50</td>\n",
       "      <td>C</td>\n",
       "      <td>7/20/2022</td>\n",
       "      <td>No</td>\n",
       "    </tr>\n",
       "    <tr>\n",
       "      <th>99</th>\n",
       "      <td>SV00100</td>\n",
       "      <td>M</td>\n",
       "      <td>NaN</td>\n",
       "      <td>2NT</td>\n",
       "      <td>5.25</td>\n",
       "      <td>2.50</td>\n",
       "      <td>4.25</td>\n",
       "      <td>C</td>\n",
       "      <td>7/20/2022</td>\n",
       "      <td>Yes</td>\n",
       "    </tr>\n",
       "  </tbody>\n",
       "</table>\n",
       "<p>100 rows × 10 columns</p>\n",
       "</div>"
      ],
      "text/plain": [
       "       MSSV GT  DT   KV    M1    M2    M3  KT         NT NGHE\n",
       "0     SV001  F NaN  2NT  3.25  3.25  4.50  A1  12/7/2018   No\n",
       "1     SV002  M NaN    1  6.00  4.00  3.50   C  12/7/2018  Yes\n",
       "2     SV003  M NaN    1  5.00  6.75  4.00   C  12/7/2018   No\n",
       "3     SV004  M NaN    1  4.25  4.25  5.25  D1  12/7/2018   No\n",
       "4     SV005  M NaN  2NT  4.25  4.50  5.00   A  12/7/2018   No\n",
       "..      ... ..  ..  ...   ...   ...   ...  ..        ...  ...\n",
       "95   SV0096  F NaN    1  5.25  1.50  6.25   C  7/20/2022  Yes\n",
       "96   SV0097  F NaN    1  5.25  3.75  4.75   C  7/20/2022   No\n",
       "97   SV0098  M NaN  2NT  7.00  8.00  4.00   C  7/20/2022  Yes\n",
       "98   SV0099  M NaN    1  5.00  3.50  5.50   C  7/20/2022   No\n",
       "99  SV00100  M NaN  2NT  5.25  2.50  4.25   C  7/20/2022  Yes\n",
       "\n",
       "[100 rows x 10 columns]"
      ]
     },
     "execution_count": 1,
     "metadata": {},
     "output_type": "execute_result"
    }
   ],
   "source": [
    "# Import thư viện pandas để xử lý dữ liệu\n",
    "import pandas as pd\n",
    "\n",
    "# Đọc file CSV vào DataFrame\n",
    "df = pd.read_csv('dulieuxettuyendaihoc.csv', header=0, delimiter=',', encoding='utf-8')\n",
    "\n",
    "# Đổi tên các cột cho dễ tham chiếu\n",
    "df.rename(columns={'NGAYTHI': 'NT', 'DINHHUONGNGHENGHIEP': 'NGHE'}, inplace=True)\n",
    "df"
   ]
  },
  {
   "cell_type": "code",
   "execution_count": 3,
   "metadata": {},
   "outputs": [
    {
     "data": {
      "text/plain": [
       "1     6.00\n",
       "2     5.00\n",
       "6     6.50\n",
       "22    5.00\n",
       "23    6.75\n",
       "24    7.00\n",
       "25    4.75\n",
       "26    5.25\n",
       "27    5.25\n",
       "95    5.25\n",
       "96    5.25\n",
       "97    7.00\n",
       "98    5.00\n",
       "99    5.25\n",
       "Name: M1, dtype: float64"
      ]
     },
     "execution_count": 3,
     "metadata": {},
     "output_type": "execute_result"
    }
   ],
   "source": [
    "# Câu 1: Sử dụng dữ liệu mẫu\n",
    "# Hãy suy diễn xem trung bình điểm thi M1 của toàn bộ khối C có bằng 4.0 hay không ?\n",
    "# H0: trung bình m1 = 4.0 (tôi suy diễn trung bình điểm thi m1 của toàn bộ khối C là 4.0)\n",
    "\n",
    "# Lọc dữ liệu nơi cột 'KT' có giá trị là 'C'\n",
    "dfKhoiC = df.loc[df['KT'] == 'C']\n",
    "\n",
    "# Hiển thị cột 'M1' của dữ liệu đã lọc\n",
    "dfKhoiC['M1']\n",
    "\n",
    "# Lấy thống kê mô tả cho cột 'M1'\n",
    "dfKhoiC['M1'].describe()"
   ]
  },
  {
   "cell_type": "code",
   "execution_count": 4,
   "metadata": {},
   "outputs": [
    {
     "data": {
      "text/plain": [
       "TtestResult(statistic=7.650519779016341, pvalue=3.6339826927369557e-06, df=13)"
      ]
     },
     "execution_count": 4,
     "metadata": {},
     "output_type": "execute_result"
    }
   ],
   "source": [
    "# One sample T-Test\n",
    "\n",
    "# Import các hàm thống kê từ thư viện scipy\n",
    "import scipy.stats as stats\n",
    "\n",
    "# Thực hiện kiểm định One sample T-Test trên cột 'M1' với trung bình điểm thi là 4.0\n",
    "# mặc định mức tin cậy là 95% với mức sai lầm (alpha) là 5%\n",
    "stats.ttest_1samp(dfKhoiC['M1'], popmean=4.0)\n",
    "\n",
    "# p-value = 3.633 x 10^-6 < alpha -> reject H0\n",
    "\n",
    "# kết luận: không đủ dữ kiện để nói rằng trung bình điểm thi M1 của các thí sinh khối C là 4.0"
   ]
  },
  {
   "cell_type": "code",
   "execution_count": 5,
   "metadata": {},
   "outputs": [
    {
     "data": {
      "text/plain": [
       "TtestResult(statistic=-2.820074837915494, pvalue=0.0144629751431775, df=13)"
      ]
     },
     "execution_count": 5,
     "metadata": {},
     "output_type": "execute_result"
    }
   ],
   "source": [
    "# kiểm tra điểm thi trung bình M2 của thí sinh khối C có bằng 5.7 hay không\n",
    "stats.ttest_1samp(dfKhoiC['M2'], popmean=5.7)\n",
    "\n",
    "# p-value = 0.0145 < alpha 0.05\n",
    "# kết luận: không đủ dữ kiện để nói rằng trung bình điểm thi M2 của thí sinh khối C là 5.7"
   ]
  },
  {
   "cell_type": "code",
   "execution_count": null,
   "metadata": {},
   "outputs": [],
   "source": [
    "# Sinh viên tự nghiên cứu mức sai lầm 5%, 10%, 1% với bài trên\n",
    "\n",
    "# Kiểm tra điểm thi trung bình của sinh viên khối C có phải là 6.5 hay không ? với mức sai lầm là 10%"
   ]
  },
  {
   "cell_type": "code",
   "execution_count": 7,
   "metadata": {},
   "outputs": [
    {
     "data": {
      "text/plain": [
       "(-29.907152266677993, 1.588509177330612e-196)"
      ]
     },
     "execution_count": 7,
     "metadata": {},
     "output_type": "execute_result"
    }
   ],
   "source": [
    "# One sample Z-Test\n",
    "\n",
    "# Import hàm z-test từ thư viện statsmodels\n",
    "from statsmodels.stats.weightstats import ztest as ztest\n",
    "\n",
    "# Thực hiện kiểm định z một mẫu trên cột 'M1' với giá trị trung bình là 8.0\n",
    "ztest(df['M1'], value=8.0)\n",
    "\n",
    "# p-value = 1.588509177330612e-196 < alpha (0.05)\n",
    "# bác bỏ H0"
   ]
  },
  {
   "cell_type": "code",
   "execution_count": 8,
   "metadata": {},
   "outputs": [
    {
     "data": {
      "text/plain": [
       "(-23.06488697108683, 1.0428701078797563e-117)"
      ]
     },
     "execution_count": 8,
     "metadata": {},
     "output_type": "execute_result"
    }
   ],
   "source": [
    "# kiểm tra điểm trung bình M1 có bằng 6.7\n",
    "ztest(df['M2'], value=6.7)\n",
    "\n",
    "#p-value = 1.0428701078797563e-117 -> bác bỏ H0"
   ]
  },
  {
   "cell_type": "code",
   "execution_count": 9,
   "metadata": {},
   "outputs": [
    {
     "data": {
      "text/plain": [
       "TtestResult(statistic=2.5331368604654054, pvalue=0.017676922552296807, df=26.0)"
      ]
     },
     "execution_count": 9,
     "metadata": {},
     "output_type": "execute_result"
    }
   ],
   "source": [
    "# Two sample T-Test\n",
    "\n",
    "# Lọc dữ liệu nơi cột 'KT' có giá trị là 'C'\n",
    "dfKhoiC = df.loc[df['KT'] == 'C']\n",
    "\n",
    "# Thực hiện kiểm định Two sample T-Test giữa các cột 'M1' và 'M2' của thí sinh khối C có bằng nhau không ?\n",
    "stats.ttest_ind(dfKhoiC['M1'], dfKhoiC['M2'], equal_var=True)\n",
    "\n",
    "# pvalue=0.017676922552296807 < alpha -> bác bỏ H0: không đủ dữ kiện để kết luận"
   ]
  },
  {
   "cell_type": "code",
   "execution_count": null,
   "metadata": {},
   "outputs": [],
   "source": [
    "# kiểm tra trung bình M1 có bằng trung bình M2 không cho thí sinh khối C với mức độ tin cậy 99%"
   ]
  },
  {
   "cell_type": "code",
   "execution_count": 10,
   "metadata": {},
   "outputs": [
    {
     "data": {
      "text/plain": [
       "(-2.9004757923795, 0.0037259661678783573)"
      ]
     },
     "execution_count": 10,
     "metadata": {},
     "output_type": "execute_result"
    }
   ],
   "source": [
    "# Two sample Z-Test\n",
    "\n",
    "# Thực hiện kiểm định z hai mẫu giữa các cột 'M1' và 'M2' với giá trị trung bình là 0\n",
    "ztest(df['M1'], df['M2'], value=0)\n",
    "\n",
    "# pvalue = 0.0037259661678783573 < alpha -> reject H0"
   ]
  },
  {
   "cell_type": "code",
   "execution_count": 12,
   "metadata": {},
   "outputs": [
    {
     "data": {
      "text/plain": [
       "(4.172765180703833, 3.009250404643791e-05)"
      ]
     },
     "execution_count": 12,
     "metadata": {},
     "output_type": "execute_result"
    }
   ],
   "source": [
    "# kiểm tra trung bình m2 và m3 có bằng nhau không ? mức tin cậy 95%\n",
    "ztest(df['M3'], df['M2'], value=0)\n",
    "\n",
    "# pvalue = 3.009250404643791e-05 < alpha -> reject H0"
   ]
  },
  {
   "cell_type": "code",
   "execution_count": 15,
   "metadata": {},
   "outputs": [
    {
     "name": "stderr",
     "output_type": "stream",
     "text": [
      "C:\\Users\\Admin\\AppData\\Local\\Temp\\ipykernel_23048\\2476132565.py:2: DeprecationWarning: Please import `pearsonr` from the `scipy.stats` namespace; the `scipy.stats.stats` namespace is deprecated and will be removed in SciPy 2.0.0.\n",
      "  from scipy.stats.stats import pearsonr\n"
     ]
    },
    {
     "data": {
      "text/plain": [
       "PearsonRResult(statistic=0.03515405725785023, pvalue=0.7284198928723625)"
      ]
     },
     "execution_count": 15,
     "metadata": {},
     "output_type": "execute_result"
    }
   ],
   "source": [
    "# KIỂM ĐỊNH TƯƠNG QUAN\n",
    "\n",
    "# Import hàm pearsonr từ thư viện scipy.stats\n",
    "from scipy.stats.stats import pearsonr\n",
    "\n",
    "# Tính hệ số tương quan Pearson giữa các cột 'M1' và 'M2'\n",
    "pearsonr(df['M1'], df['M2'])\n",
    "\n",
    "# pvalue=0.7284198928723625 -> chấp nhận -> m1 và m2 không tương quan"
   ]
  },
  {
   "cell_type": "code",
   "execution_count": 18,
   "metadata": {},
   "outputs": [
    {
     "data": {
      "text/plain": [
       "PearsonRResult(statistic=0.018730760164383135, pvalue=0.8532534347055037)"
      ]
     },
     "execution_count": 18,
     "metadata": {},
     "output_type": "execute_result"
    }
   ],
   "source": [
    "# tính m1 và m3, m2 và m3 có tương quan không ?\n",
    "# Tính hệ số tương quan Pearson giữa các cột 'M1' và 'M3'\n",
    "pearsonr(df['M1'], df['M3'])\n",
    "\n",
    "# pvalue=0.8532534347055037 -> chấp nhận -> m1 và m3 không tương quan"
   ]
  },
  {
   "cell_type": "code",
   "execution_count": 17,
   "metadata": {},
   "outputs": [
    {
     "data": {
      "text/plain": [
       "PearsonRResult(statistic=-0.09152288755408222, pvalue=0.3651344767496191)"
      ]
     },
     "execution_count": 17,
     "metadata": {},
     "output_type": "execute_result"
    }
   ],
   "source": [
    "\n",
    "# Tính hệ số tương quan Pearson giữa các cột 'M3' và 'M2'\n",
    "pearsonr(df['M3'], df['M2'])\n",
    "\n",
    "# pvalue = 0.3651344767496191 -> chấp nhận -> m2 và m3 không tương quan"
   ]
  },
  {
   "cell_type": "code",
   "execution_count": 19,
   "metadata": {},
   "outputs": [
    {
     "data": {
      "text/html": [
       "<div>\n",
       "<style scoped>\n",
       "    .dataframe tbody tr th:only-of-type {\n",
       "        vertical-align: middle;\n",
       "    }\n",
       "\n",
       "    .dataframe tbody tr th {\n",
       "        vertical-align: top;\n",
       "    }\n",
       "\n",
       "    .dataframe thead th {\n",
       "        text-align: right;\n",
       "    }\n",
       "</style>\n",
       "<table border=\"1\" class=\"dataframe\">\n",
       "  <thead>\n",
       "    <tr style=\"text-align: right;\">\n",
       "      <th>NGHE</th>\n",
       "      <th>No</th>\n",
       "      <th>Yes</th>\n",
       "    </tr>\n",
       "    <tr>\n",
       "      <th>GT</th>\n",
       "      <th></th>\n",
       "      <th></th>\n",
       "    </tr>\n",
       "  </thead>\n",
       "  <tbody>\n",
       "    <tr>\n",
       "      <th>F</th>\n",
       "      <td>23</td>\n",
       "      <td>25</td>\n",
       "    </tr>\n",
       "    <tr>\n",
       "      <th>M</th>\n",
       "      <td>32</td>\n",
       "      <td>20</td>\n",
       "    </tr>\n",
       "  </tbody>\n",
       "</table>\n",
       "</div>"
      ],
      "text/plain": [
       "NGHE  No  Yes\n",
       "GT           \n",
       "F     23   25\n",
       "M     32   20"
      ]
     },
     "execution_count": 19,
     "metadata": {},
     "output_type": "execute_result"
    }
   ],
   "source": [
    "# KIÊM TRA ĐỘC LẬP CỦA 2 BIẾN ĐỊNH TÍNH MÀ GIÁ TRỊ THỂ HIỆN CỦA 2 BIẾN LÀ NHỊ PHÂN\n",
    "\n",
    "# Import các hàm thống kê từ thư viện scipy\n",
    "import scipy.stats as stats\n",
    "\n",
    "# Kiểm tra có sự phụ thuộc nào của sinh viên có định hướng và giới tính không ?\n",
    "# 'GT' và 'NGHE'\n",
    "crosdata = pd.crosstab(df['GT'], [df['NGHE']], rownames=['GT'], colnames=['NGHE'])\n",
    "crosdata"
   ]
  },
  {
   "cell_type": "code",
   "execution_count": 20,
   "metadata": {},
   "outputs": [
    {
     "name": "stdout",
     "output_type": "stream",
     "text": [
      "odd ratio is : 0.575\n",
      "p_value is : 0.22763927303454412\n"
     ]
    }
   ],
   "source": [
    "# Tính tỷ lệ odds và p-value bằng phương pháp Fisher's Exact Test\n",
    "odd_ratio, p_value = stats.fisher_exact(crosdata)\n",
    "print('odd ratio is : ' + str(odd_ratio))\n",
    "print('p_value is : ' + str(p_value))\n",
    "\n",
    "# pvalue > alpha -> chấp nhận H0: 2 biến này độc lập, định hướng nghề nghiệp không phụ thuộc vào giới tính"
   ]
  },
  {
   "cell_type": "code",
   "execution_count": 21,
   "metadata": {},
   "outputs": [
    {
     "data": {
      "text/html": [
       "<div>\n",
       "<style scoped>\n",
       "    .dataframe tbody tr th:only-of-type {\n",
       "        vertical-align: middle;\n",
       "    }\n",
       "\n",
       "    .dataframe tbody tr th {\n",
       "        vertical-align: top;\n",
       "    }\n",
       "\n",
       "    .dataframe thead th {\n",
       "        text-align: right;\n",
       "    }\n",
       "</style>\n",
       "<table border=\"1\" class=\"dataframe\">\n",
       "  <thead>\n",
       "    <tr style=\"text-align: right;\">\n",
       "      <th>KT</th>\n",
       "      <th>A</th>\n",
       "      <th>A1</th>\n",
       "      <th>B</th>\n",
       "      <th>C</th>\n",
       "      <th>D1</th>\n",
       "    </tr>\n",
       "    <tr>\n",
       "      <th>KV</th>\n",
       "      <th></th>\n",
       "      <th></th>\n",
       "      <th></th>\n",
       "      <th></th>\n",
       "      <th></th>\n",
       "    </tr>\n",
       "  </thead>\n",
       "  <tbody>\n",
       "    <tr>\n",
       "      <th>1</th>\n",
       "      <td>29</td>\n",
       "      <td>2</td>\n",
       "      <td>8</td>\n",
       "      <td>8</td>\n",
       "      <td>13</td>\n",
       "    </tr>\n",
       "    <tr>\n",
       "      <th>2</th>\n",
       "      <td>9</td>\n",
       "      <td>0</td>\n",
       "      <td>0</td>\n",
       "      <td>2</td>\n",
       "      <td>8</td>\n",
       "    </tr>\n",
       "    <tr>\n",
       "      <th>2NT</th>\n",
       "      <td>11</td>\n",
       "      <td>4</td>\n",
       "      <td>1</td>\n",
       "      <td>4</td>\n",
       "      <td>1</td>\n",
       "    </tr>\n",
       "  </tbody>\n",
       "</table>\n",
       "</div>"
      ],
      "text/plain": [
       "KT    A  A1  B  C  D1\n",
       "KV                   \n",
       "1    29   2  8  8  13\n",
       "2     9   0  0  2   8\n",
       "2NT  11   4  1  4   1"
      ]
     },
     "execution_count": 21,
     "metadata": {},
     "output_type": "execute_result"
    }
   ],
   "source": [
    "# KIỂM ĐỊNH CHI-SQUARE TEST\n",
    "\n",
    "# Import hàm chi2_contingency từ thư viện scipy.stats\n",
    "from scipy.stats import chi2_contingency\n",
    "\n",
    "# Tạo bảng tần suất chéo từ các cột 'KV' và 'KT'\n",
    "crosdata = pd.crosstab(df['KV'], [df['KT']], rownames=['KV'], colnames=['KT'])\n",
    "crosdata"
   ]
  },
  {
   "cell_type": "code",
   "execution_count": null,
   "metadata": {},
   "outputs": [],
   "source": [
    "# Vẽ biểu đồ heatmap cho bảng tần suất chéo\n",
    "import matplotlib.pyplot as plt\n",
    "plt.pcolor(crosdata, cmap='RdBu')\n",
    "plt.colorbar()\n",
    "plt.show()\n"
   ]
  },
  {
   "cell_type": "code",
   "execution_count": 22,
   "metadata": {},
   "outputs": [
    {
     "name": "stdout",
     "output_type": "stream",
     "text": [
      "p value is 0.02012461887796485\n",
      "Phụ thuộc (bác bỏ H0)\n"
     ]
    }
   ],
   "source": [
    "# Thực hiện kiểm định chi bình phương cho bảng tần suất chéo\n",
    "stat, p, dof, expected = chi2_contingency(crosdata)\n",
    " \n",
    "alpha = 0.05\n",
    "print(\"p value is \" + str(p))\n",
    "if p <= alpha:\n",
    "    print('Phụ thuộc (bác bỏ H0)')\n",
    "else:\n",
    "    print('Không phụ thuộc (chấp nhận H0)')\n",
    "\n",
    "# kết luận: không đủ dữ kiện để nói rằng giữa KT và KV là độc lập hay có quan hệ"
   ]
  },
  {
   "cell_type": "code",
   "execution_count": 25,
   "metadata": {},
   "outputs": [
    {
     "name": "stdout",
     "output_type": "stream",
     "text": [
      "p value is 0.005044752209452435\n",
      "GT và KT Phụ thuộc (bác bỏ H0)\n"
     ]
    }
   ],
   "source": [
    "# GT và KT có mối quan hệ không ?\n",
    "crosdata = pd.crosstab(df['GT'], [df['KT']], rownames=['KV'], colnames=['KT'])\n",
    "\n",
    "stat, p, dof, expected = chi2_contingency(crosdata)\n",
    " \n",
    "alpha = 0.05\n",
    "print(\"p value is \" + str(p))\n",
    "if p <= alpha:\n",
    "    print('GT và KT Phụ thuộc (bác bỏ H0)')\n",
    "else:\n",
    "    print('GT và KT Không phụ thuộc (chấp nhận H0)')"
   ]
  },
  {
   "cell_type": "code",
   "execution_count": 26,
   "metadata": {},
   "outputs": [
    {
     "data": {
      "text/html": [
       "<div>\n",
       "<style scoped>\n",
       "    .dataframe tbody tr th:only-of-type {\n",
       "        vertical-align: middle;\n",
       "    }\n",
       "\n",
       "    .dataframe tbody tr th {\n",
       "        vertical-align: top;\n",
       "    }\n",
       "\n",
       "    .dataframe thead th {\n",
       "        text-align: right;\n",
       "    }\n",
       "</style>\n",
       "<table border=\"1\" class=\"dataframe\">\n",
       "  <thead>\n",
       "    <tr style=\"text-align: right;\">\n",
       "      <th></th>\n",
       "      <th>df</th>\n",
       "      <th>sum_sq</th>\n",
       "      <th>mean_sq</th>\n",
       "      <th>F</th>\n",
       "      <th>PR(&gt;F)</th>\n",
       "    </tr>\n",
       "  </thead>\n",
       "  <tbody>\n",
       "    <tr>\n",
       "      <th>GT</th>\n",
       "      <td>1.0</td>\n",
       "      <td>1.203141</td>\n",
       "      <td>1.203141</td>\n",
       "      <td>0.590538</td>\n",
       "      <td>0.444059</td>\n",
       "    </tr>\n",
       "    <tr>\n",
       "      <th>Residual</th>\n",
       "      <td>98.0</td>\n",
       "      <td>199.661859</td>\n",
       "      <td>2.037366</td>\n",
       "      <td>NaN</td>\n",
       "      <td>NaN</td>\n",
       "    </tr>\n",
       "  </tbody>\n",
       "</table>\n",
       "</div>"
      ],
      "text/plain": [
       "            df      sum_sq   mean_sq         F    PR(>F)\n",
       "GT         1.0    1.203141  1.203141  0.590538  0.444059\n",
       "Residual  98.0  199.661859  2.037366       NaN       NaN"
      ]
     },
     "execution_count": 26,
     "metadata": {},
     "output_type": "execute_result"
    }
   ],
   "source": [
    "# Import thư viện statsmodels và hàm ols\n",
    "import statsmodels.api as sm\n",
    "from statsmodels.formula.api import ols\n",
    "\n",
    "# m1 có phụ thuộc vào giới tính không ?\n",
    "# Xây dựng mô hình hồi quy đơn biến với biến phụ thuộc là 'M1' và biến độc lập là 'GT'\n",
    "model = ols('M1 ~ GT', data=df).fit()\n",
    "aov_table = sm.stats.anova_lm(model, typ=1)\n",
    "aov_table\n",
    "\n",
    "#pvalue = 0.444059 > alpha -> chấp nhận H0 -> trung bình m1 giới tính nam = trung bình m2 giới tính nữ -> m1 không phụ thuộc vào giới tính"
   ]
  },
  {
   "cell_type": "code",
   "execution_count": 27,
   "metadata": {},
   "outputs": [
    {
     "data": {
      "text/html": [
       "<div>\n",
       "<style scoped>\n",
       "    .dataframe tbody tr th:only-of-type {\n",
       "        vertical-align: middle;\n",
       "    }\n",
       "\n",
       "    .dataframe tbody tr th {\n",
       "        vertical-align: top;\n",
       "    }\n",
       "\n",
       "    .dataframe thead th {\n",
       "        text-align: right;\n",
       "    }\n",
       "</style>\n",
       "<table border=\"1\" class=\"dataframe\">\n",
       "  <thead>\n",
       "    <tr style=\"text-align: right;\">\n",
       "      <th></th>\n",
       "      <th>df</th>\n",
       "      <th>sum_sq</th>\n",
       "      <th>mean_sq</th>\n",
       "      <th>F</th>\n",
       "      <th>PR(&gt;F)</th>\n",
       "    </tr>\n",
       "  </thead>\n",
       "  <tbody>\n",
       "    <tr>\n",
       "      <th>KV</th>\n",
       "      <td>2.0</td>\n",
       "      <td>6.053398</td>\n",
       "      <td>3.026699</td>\n",
       "      <td>2.790934</td>\n",
       "      <td>0.066299</td>\n",
       "    </tr>\n",
       "    <tr>\n",
       "      <th>Residual</th>\n",
       "      <td>97.0</td>\n",
       "      <td>105.194102</td>\n",
       "      <td>1.084475</td>\n",
       "      <td>NaN</td>\n",
       "      <td>NaN</td>\n",
       "    </tr>\n",
       "  </tbody>\n",
       "</table>\n",
       "</div>"
      ],
      "text/plain": [
       "            df      sum_sq   mean_sq         F    PR(>F)\n",
       "KV         2.0    6.053398  3.026699  2.790934  0.066299\n",
       "Residual  97.0  105.194102  1.084475       NaN       NaN"
      ]
     },
     "execution_count": 27,
     "metadata": {},
     "output_type": "execute_result"
    }
   ],
   "source": [
    "# M2 có phụ thuộc vào kv hay không ?\n",
    "model = ols('M2 ~ KV', data=df).fit()\n",
    "aov_table = sm.stats.anova_lm(model, typ=1)\n",
    "aov_table\n",
    "\n",
    "# pvalue = 0.066299 > alpha -> chấp nhận -> không phụ thuộc"
   ]
  },
  {
   "cell_type": "code",
   "execution_count": 28,
   "metadata": {},
   "outputs": [
    {
     "data": {
      "text/html": [
       "<div>\n",
       "<style scoped>\n",
       "    .dataframe tbody tr th:only-of-type {\n",
       "        vertical-align: middle;\n",
       "    }\n",
       "\n",
       "    .dataframe tbody tr th {\n",
       "        vertical-align: top;\n",
       "    }\n",
       "\n",
       "    .dataframe thead th {\n",
       "        text-align: right;\n",
       "    }\n",
       "</style>\n",
       "<table border=\"1\" class=\"dataframe\">\n",
       "  <thead>\n",
       "    <tr style=\"text-align: right;\">\n",
       "      <th></th>\n",
       "      <th>df</th>\n",
       "      <th>sum_sq</th>\n",
       "      <th>mean_sq</th>\n",
       "      <th>F</th>\n",
       "      <th>PR(&gt;F)</th>\n",
       "    </tr>\n",
       "  </thead>\n",
       "  <tbody>\n",
       "    <tr>\n",
       "      <th>KT</th>\n",
       "      <td>4.0</td>\n",
       "      <td>3.967636</td>\n",
       "      <td>0.991909</td>\n",
       "      <td>0.911814</td>\n",
       "      <td>0.46041</td>\n",
       "    </tr>\n",
       "    <tr>\n",
       "      <th>Residual</th>\n",
       "      <td>95.0</td>\n",
       "      <td>103.344864</td>\n",
       "      <td>1.087841</td>\n",
       "      <td>NaN</td>\n",
       "      <td>NaN</td>\n",
       "    </tr>\n",
       "  </tbody>\n",
       "</table>\n",
       "</div>"
      ],
      "text/plain": [
       "            df      sum_sq   mean_sq         F   PR(>F)\n",
       "KT         4.0    3.967636  0.991909  0.911814  0.46041\n",
       "Residual  95.0  103.344864  1.087841       NaN      NaN"
      ]
     },
     "execution_count": 28,
     "metadata": {},
     "output_type": "execute_result"
    }
   ],
   "source": [
    "# m3 có phụ thuộc vào khối thi không ?\n",
    "model = ols('M3 ~ KT', data=df).fit()\n",
    "aov_table = sm.stats.anova_lm(model, typ=1)\n",
    "aov_table\n",
    "\n",
    "# pvalue = 0.46041 < alpha -> không chấp nhận -> phụ thuộc"
   ]
  },
  {
   "cell_type": "code",
   "execution_count": 29,
   "metadata": {},
   "outputs": [
    {
     "name": "stdout",
     "output_type": "stream",
     "text": [
      "            df      sum_sq   mean_sq         F    PR(>F)\n",
      "GT         1.0    1.203141  1.203141  0.598960  0.440917\n",
      "KV         2.0    3.493206  1.746603  0.869512  0.422500\n",
      "GT:KV      2.0    7.349290  3.674645  1.829350  0.166186\n",
      "Residual  94.0  188.819363  2.008717       NaN       NaN\n"
     ]
    }
   ],
   "source": [
    "# Cho biết m1 có phụ thuộc vào loại GT trên từng nhóm KV hay không ?\n",
    "# Xây dựng mô hình hồi quy đa biến với biến phụ thuộc là 'M1' và các biến độc lập là 'GT', 'KV' và tương tác giữa 'GT' và 'KV'\n",
    "model = ols('M1 ~ GT + KV + GT:KV', data=df).fit()\n",
    "result = sm.stats.anova_lm(model, type=2)\n",
    "print(result)\n",
    "\n",
    "# 0.440917 -> không phụ thuộc vào GT\n",
    "# 0.422500 -> không phụ thuộc vào KV\n",
    "# Điểm m1 trên từng giới tính độc lập với khu vực"
   ]
  },
  {
   "cell_type": "code",
   "execution_count": 30,
   "metadata": {},
   "outputs": [
    {
     "name": "stdout",
     "output_type": "stream",
     "text": [
      "            df     sum_sq   mean_sq         F    PR(>F)\n",
      "KV         2.0   6.053398  3.026699  2.987203  0.055626\n",
      "KT         4.0  10.061984  2.515496  2.482671  0.049539\n",
      "KV:KT      8.0   8.688324  1.086040  1.071869  0.390293\n",
      "Residual  87.0  88.150282  1.013222       NaN       NaN\n"
     ]
    }
   ],
   "source": [
    "# M2 có phụ thuộc vào nhóm KV theo từng loại KT hay không\n",
    "model = ols('M2 ~ KV + KT + KV:KT', data=df).fit()\n",
    "result = sm.stats.anova_lm(model, type=2)\n",
    "print(result)\n",
    "\n",
    "# 0.055626 -> m2 phụ thuộc vào KV\n",
    "# 0.049539 -> m2 không phụ thuộc vào kT\n",
    "# 0.390293 -> m2 theo từng nhóm KV độc lập theo từng loại KT"
   ]
  },
  {
   "cell_type": "code",
   "execution_count": 31,
   "metadata": {},
   "outputs": [
    {
     "name": "stdout",
     "output_type": "stream",
     "text": [
      "                            OLS Regression Results                            \n",
      "==============================================================================\n",
      "Dep. Variable:                      y   R-squared:                       0.000\n",
      "Model:                            OLS   Adj. R-squared:                 -0.010\n",
      "Method:                 Least Squares   F-statistic:                   0.03439\n",
      "Date:                Sat, 07 Sep 2024   Prob (F-statistic):              0.853\n",
      "Time:                        10:57:58   Log-Likelihood:                -145.41\n",
      "No. Observations:                 100   AIC:                             294.8\n",
      "Df Residuals:                      98   BIC:                             300.0\n",
      "Df Model:                           1                                         \n",
      "Covariance Type:            nonrobust                                         \n",
      "==============================================================================\n",
      "                 coef    std err          t      P>|t|      [0.025      0.975]\n",
      "------------------------------------------------------------------------------\n",
      "const          4.8238      0.295     16.338      0.000       4.238       5.410\n",
      "x1             0.0137      0.074      0.185      0.853      -0.133       0.160\n",
      "==============================================================================\n",
      "Omnibus:                        6.663   Durbin-Watson:                   1.749\n",
      "Prob(Omnibus):                  0.036   Jarque-Bera (JB):                6.173\n",
      "Skew:                           0.586   Prob(JB):                       0.0457\n",
      "Kurtosis:                       3.327   Cond. No.                         11.9\n",
      "==============================================================================\n",
      "\n",
      "Notes:\n",
      "[1] Standard Errors assume that the covariance matrix of the errors is correctly specified.\n"
     ]
    }
   ],
   "source": [
    "# Hãy cho biest sự ảnh hưởng của M1 tới M3\n",
    "# Tìm cách biểu diễn M3 theo M1\n",
    "\n",
    "# Xây dựng mô hình hồi quy đơn biến với biến phụ thuộc là 'M3' và biến độc lập là 'M1'\n",
    "# Giả sử là hàm hồi quy tuyến tính: M3 = A0 + A1 x M1\n",
    "\n",
    "# tập biến độc lập\n",
    "X_with_constant = sm.add_constant(df[[\"M1\"]].values)\n",
    "# tập biến phụ thuộc \n",
    "y = df[['M3']].values\n",
    "result = sm.OLS(y, X_with_constant).fit()\n",
    "print(result.summary())\n",
    "\n",
    "# R-square = 0 -> M1 không giải thích được cho M3\n",
    "# Prob = 0.853 > 0.05 -> mô hình vô nghĩa\n",
    "\n",
    "# M3 = 4.8238 (const, coef) + 0.0.137(x1, coef) * M1 \n"
   ]
  },
  {
   "cell_type": "code",
   "execution_count": 32,
   "metadata": {},
   "outputs": [
    {
     "name": "stdout",
     "output_type": "stream",
     "text": [
      "4.91559\n"
     ]
    }
   ],
   "source": [
    "# giả sử điểm thi m1 = 6.7 thì dự báo điểm thi m3 là bao nhiêu\n",
    "print(4.8238 + 0.0137 * 6.7)"
   ]
  },
  {
   "cell_type": "code",
   "execution_count": 33,
   "metadata": {},
   "outputs": [
    {
     "name": "stdout",
     "output_type": "stream",
     "text": [
      "                            OLS Regression Results                            \n",
      "==============================================================================\n",
      "Dep. Variable:                      y   R-squared:                       0.008\n",
      "Model:                            OLS   Adj. R-squared:                 -0.002\n",
      "Method:                 Least Squares   F-statistic:                    0.8278\n",
      "Date:                Sat, 07 Sep 2024   Prob (F-statistic):              0.365\n",
      "Time:                        11:06:57   Log-Likelihood:                -145.00\n",
      "No. Observations:                 100   AIC:                             294.0\n",
      "Df Residuals:                      98   BIC:                             299.2\n",
      "Df Model:                           1                                         \n",
      "Covariance Type:            nonrobust                                         \n",
      "==============================================================================\n",
      "                 coef    std err          t      P>|t|      [0.025      0.975]\n",
      "------------------------------------------------------------------------------\n",
      "const          5.2575      0.433     12.139      0.000       4.398       6.117\n",
      "x1            -0.0899      0.099     -0.910      0.365      -0.286       0.106\n",
      "==============================================================================\n",
      "Omnibus:                        8.856   Durbin-Watson:                   1.716\n",
      "Prob(Omnibus):                  0.012   Jarque-Bera (JB):                8.604\n",
      "Skew:                           0.639   Prob(JB):                       0.0135\n",
      "Kurtosis:                       3.658   Cond. No.                         19.1\n",
      "==============================================================================\n",
      "\n",
      "Notes:\n",
      "[1] Standard Errors assume that the covariance matrix of the errors is correctly specified.\n"
     ]
    }
   ],
   "source": [
    "# ảnh hưởng của m2 tới m3, dùng hồi quy tuyến tính\n",
    "X_with_constant = sm.add_constant(df[[\"M2\"]].values)\n",
    "# tập biến phụ thuộc \n",
    "y = df[['M3']].values\n",
    "result = sm.OLS(y, X_with_constant).fit()\n",
    "print(result.summary())"
   ]
  },
  {
   "cell_type": "code",
   "execution_count": 34,
   "metadata": {},
   "outputs": [
    {
     "name": "stdout",
     "output_type": "stream",
     "text": [
      "4.74507\n"
     ]
    }
   ],
   "source": [
    "# m2 = 5.7 thì m3 là bao nhiêu ?\n",
    "print(5.2575 - 0.0899 * 5.7)"
   ]
  },
  {
   "cell_type": "code",
   "execution_count": 35,
   "metadata": {},
   "outputs": [
    {
     "name": "stdout",
     "output_type": "stream",
     "text": [
      "                            OLS Regression Results                            \n",
      "==============================================================================\n",
      "Dep. Variable:                      y   R-squared:                       0.009\n",
      "Model:                            OLS   Adj. R-squared:                 -0.012\n",
      "Method:                 Least Squares   F-statistic:                    0.4335\n",
      "Date:                Sat, 07 Sep 2024   Prob (F-statistic):              0.649\n",
      "Time:                        11:09:20   Log-Likelihood:                -144.98\n",
      "No. Observations:                 100   AIC:                             296.0\n",
      "Df Residuals:                      97   BIC:                             303.8\n",
      "Df Model:                           2                                         \n",
      "Covariance Type:            nonrobust                                         \n",
      "==============================================================================\n",
      "                 coef    std err          t      P>|t|      [0.025      0.975]\n",
      "------------------------------------------------------------------------------\n",
      "const          5.2006      0.508     10.241      0.000       4.193       6.209\n",
      "x1             0.0161      0.074      0.217      0.828      -0.131       0.163\n",
      "x2            -0.0906      0.099     -0.912      0.364      -0.288       0.107\n",
      "==============================================================================\n",
      "Omnibus:                        8.456   Durbin-Watson:                   1.724\n",
      "Prob(Omnibus):                  0.015   Jarque-Bera (JB):                8.119\n",
      "Skew:                           0.626   Prob(JB):                       0.0173\n",
      "Kurtosis:                       3.619   Cond. No.                         29.0\n",
      "==============================================================================\n",
      "\n",
      "Notes:\n",
      "[1] Standard Errors assume that the covariance matrix of the errors is correctly specified.\n"
     ]
    }
   ],
   "source": [
    "# phân tích ảnh hưởng của m1 và m2 tới m3\n",
    "# m1 = 6, m2 = 5.5 thì m3 bao nhiêu ?\n",
    "\n",
    "# Xây dựng mô hình hồi quy đa biến với biến phụ thuộc là 'M3' và các biến độc lập là 'M1' và 'M2'\n",
    "X_with_constant = sm.add_constant(df[[\"M1\", \"M2\"]].values)\n",
    "y = df[['M3']].values\n",
    "result = sm.OLS(y, X_with_constant).fit()\n",
    "print(result.summary())\n",
    "\n",
    "# m3 = 5.2006 + 0.0161 * m1 - 0.0906 * m2"
   ]
  },
  {
   "cell_type": "code",
   "execution_count": 37,
   "metadata": {},
   "outputs": [
    {
     "name": "stdout",
     "output_type": "stream",
     "text": [
      "4.798899999999999\n"
     ]
    }
   ],
   "source": [
    "print(5.2006 + 0.0161 * 6.0 - 0.0906 * 5.5)"
   ]
  },
  {
   "cell_type": "code",
   "execution_count": 38,
   "metadata": {},
   "outputs": [
    {
     "name": "stdout",
     "output_type": "stream",
     "text": [
      "                                 OLS Regression Results                                \n",
      "=======================================================================================\n",
      "Dep. Variable:                      y   R-squared (uncentered):                   0.911\n",
      "Model:                            OLS   Adj. R-squared (uncentered):              0.909\n",
      "Method:                 Least Squares   F-statistic:                              500.8\n",
      "Date:                Sat, 07 Sep 2024   Prob (F-statistic):                    3.54e-52\n",
      "Time:                        11:12:37   Log-Likelihood:                         -181.63\n",
      "No. Observations:                 100   AIC:                                      367.3\n",
      "Df Residuals:                      98   BIC:                                      372.5\n",
      "Df Model:                           2                                                  \n",
      "Covariance Type:            nonrobust                                                  \n",
      "==============================================================================\n",
      "                 coef    std err          t      P>|t|      [0.025      0.975]\n",
      "------------------------------------------------------------------------------\n",
      "x1             0.4062      0.091      4.466      0.000       0.226       0.587\n",
      "x2             0.7367      0.083      8.879      0.000       0.572       0.901\n",
      "==============================================================================\n",
      "Omnibus:                        3.155   Durbin-Watson:                   1.975\n",
      "Prob(Omnibus):                  0.206   Jarque-Bera (JB):                2.527\n",
      "Skew:                          -0.358   Prob(JB):                        0.283\n",
      "Kurtosis:                       3.306   Cond. No.                         4.65\n",
      "==============================================================================\n",
      "\n",
      "Notes:\n",
      "[1] R² is computed without centering (uncentered) since the model does not contain a constant.\n",
      "[2] Standard Errors assume that the covariance matrix of the errors is correctly specified.\n"
     ]
    }
   ],
   "source": [
    "# đánh giá mức độ tác động của m1 và m2 tới m3\n",
    "# giá trị coef của ai lớn hơn thì tác động nhiều hơn\n",
    "\n",
    "# Xây dựng mô hình hồi quy đa biến với biến phụ thuộc là 'M3' và các biến độc lập là 'M1' và 'M2' (không có hằng số)\n",
    "X = df[[\"M1\", \"M2\"]].values\n",
    "y = df[['M3']].values\n",
    "result = sm.OLS(y, X).fit()\n",
    "print(result.summary())"
   ]
  }
 ],
 "metadata": {
  "kernelspec": {
   "display_name": "Python 3",
   "language": "python",
   "name": "python3"
  },
  "language_info": {
   "codemirror_mode": {
    "name": "ipython",
    "version": 3
   },
   "file_extension": ".py",
   "mimetype": "text/x-python",
   "name": "python",
   "nbconvert_exporter": "python",
   "pygments_lexer": "ipython3",
   "version": "3.12.0"
  }
 },
 "nbformat": 4,
 "nbformat_minor": 2
}
