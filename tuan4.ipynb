{
 "cells": [
  {
   "cell_type": "code",
   "execution_count": null,
   "metadata": {},
   "outputs": [],
   "source": [
    "# Import thư viện pandas để xử lý dữ liệu\n",
    "import pandas as pd\n",
    "\n",
    "# Đọc file CSV vào DataFrame\n",
    "df = pd.read_csv('dulieuxettuyendaihoc.csv', header=0, delimiter=',', encoding='utf-8')\n",
    "\n",
    "# Đổi tên các cột cho dễ tham chiếu\n",
    "df.rename(columns={'NGAYTHI': 'NT', 'DINHHUONGNGHENGHIEP': 'NGHE'}, inplace=True)\n",
    "df"
   ]
  },
  {
   "cell_type": "code",
   "execution_count": null,
   "metadata": {},
   "outputs": [],
   "source": [
    "# Lọc dữ liệu nơi cột 'KT' có giá trị là 'C'\n",
    "dfKhoiC = df.loc[df['KT'] == 'C']\n",
    "\n",
    "# Hiển thị cột 'M1' của dữ liệu đã lọc\n",
    "dfKhoiC['M1']\n",
    "\n",
    "# Lấy thống kê mô tả cho cột 'M1'\n",
    "dfKhoiC['M1'].describe()"
   ]
  },
  {
   "cell_type": "code",
   "execution_count": null,
   "metadata": {},
   "outputs": [],
   "source": [
    "# Import các hàm thống kê từ thư viện scipy\n",
    "import scipy.stats as stats\n",
    "\n",
    "# Thực hiện kiểm định t một mẫu trên cột 'M1' với trung bình dân số là 4.0\n",
    "stats.ttest_1samp(dfKhoiC['M1'], popmean=4.0)\n",
    "\n",
    "# Lọc dữ liệu nơi cột 'KT' có giá trị là 'C'\n",
    "dfKhoiC = df.loc[df['KT'] == 'C']\n",
    "\n",
    "# Thực hiện kiểm định t hai mẫu độc lập giữa các cột 'M1' và 'M2' giả sử phương sai bằng nhau\n",
    "stats.ttest_ind(dfKhoiC['M1'], dfKhoiC['M2'], equal_var=True)"
   ]
  },
  {
   "cell_type": "code",
   "execution_count": null,
   "metadata": {},
   "outputs": [],
   "source": [
    "# Import hàm z-test từ thư viện statsmodels\n",
    "from statsmodels.stats.weightstats import ztest as ztest\n",
    "\n",
    "# Thực hiện kiểm định z một mẫu trên cột 'M1' với giá trị trung bình là 8.0\n",
    "ztest(df['M1'], value=8.0)\n",
    "\n",
    "# Thực hiện kiểm định z hai mẫu giữa các cột 'M1' và 'M2' với giá trị trung bình là 0\n",
    "ztest(df['M1'], df['M2'], value=0)\n"
   ]
  },
  {
   "cell_type": "code",
   "execution_count": null,
   "metadata": {},
   "outputs": [],
   "source": [
    "# Import hàm pearsonr từ thư viện scipy.stats\n",
    "from scipy.stats.stats import pearsonr\n",
    "\n",
    "# Tính hệ số tương quan Pearson giữa các cột 'M1' và 'M2'\n",
    "pearsonr(df['M1'], df['M2'])"
   ]
  },
  {
   "cell_type": "code",
   "execution_count": null,
   "metadata": {},
   "outputs": [],
   "source": [
    "# Import các hàm thống kê từ thư viện scipy\n",
    "import scipy.stats as stats\n",
    "\n",
    "# Tạo bảng tần suất chéo từ các cột 'GT' và 'NGHE'\n",
    "crosdata = pd.crosstab(df['GT'], [df['NGHE']], rownames=['GT'], colnames=['NGHE'])\n",
    "crosdata"
   ]
  },
  {
   "cell_type": "code",
   "execution_count": null,
   "metadata": {},
   "outputs": [],
   "source": [
    "# Tính tỷ lệ odds và p-value bằng phương pháp Fisher's Exact Test\n",
    "odd_ratio, p_value = stats.fisher_exact(crosdata)\n",
    "print('odd ratio is : ' + str(odd_ratio))\n",
    "print('p_value is : ' + str(p_value))"
   ]
  },
  {
   "cell_type": "code",
   "execution_count": null,
   "metadata": {},
   "outputs": [],
   "source": [
    "\n",
    "# Import hàm chi2_contingency từ thư viện scipy.stats\n",
    "from scipy.stats import chi2_contingency\n",
    "\n",
    "# Tạo bảng tần suất chéo từ các cột 'KV' và 'KT'\n",
    "crosdata = pd.crosstab(df['KV'], [df['KT']], rownames=['KV'], colnames=['KT'])\n",
    "crosdata"
   ]
  },
  {
   "cell_type": "code",
   "execution_count": null,
   "metadata": {},
   "outputs": [],
   "source": [
    "# Vẽ biểu đồ heatmap cho bảng tần suất chéo\n",
    "import matplotlib.pyplot as plt\n",
    "plt.pcolor(crosdata, cmap='RdBu')\n",
    "plt.colorbar()\n",
    "plt.show()\n"
   ]
  },
  {
   "cell_type": "code",
   "execution_count": null,
   "metadata": {},
   "outputs": [],
   "source": [
    "# Thực hiện kiểm định chi bình phương cho bảng tần suất chéo\n",
    "stat, p, dof, expected = chi2_contingency(crosdata)\n",
    " \n",
    "alpha = 0.05\n",
    "print(\"p value is \" + str(p))\n",
    "if p <= alpha:\n",
    "    print('Phụ thuộc (bác bỏ H0)')\n",
    "else:\n",
    "    print('Không phụ thuộc (chấp nhận H0)')"
   ]
  },
  {
   "cell_type": "code",
   "execution_count": null,
   "metadata": {},
   "outputs": [],
   "source": [
    "# Import thư viện statsmodels và hàm ols\n",
    "import statsmodels.api as sm\n",
    "from statsmodels.formula.api import ols\n",
    "\n",
    "# Xây dựng mô hình hồi quy đơn biến với biến phụ thuộc là 'M1' và biến độc lập là 'GT'\n",
    "model = ols('M1 ~ GT', data=df).fit()\n",
    "aov_table = sm.stats.anova_lm(model, typ=1)\n",
    "aov_table"
   ]
  },
  {
   "cell_type": "code",
   "execution_count": null,
   "metadata": {},
   "outputs": [],
   "source": [
    "# Xây dựng mô hình hồi quy đa biến với biến phụ thuộc là 'M1' và các biến độc lập là 'GT', 'KV' và tương tác giữa 'GT' và 'KV'\n",
    "model = ols('M1 ~ GT + KV + GT:KV', data=df).fit()\n",
    "result = sm.stats.anova_lm(model, type=2)\n",
    "print(result)"
   ]
  },
  {
   "cell_type": "code",
   "execution_count": null,
   "metadata": {},
   "outputs": [],
   "source": [
    "# Xây dựng mô hình hồi quy đơn biến với biến phụ thuộc là 'M3' và biến độc lập là 'M1'\n",
    "X_with_constant = sm.add_constant(df[[\"M1\"]].values)\n",
    "y = df[['M3']].values\n",
    "result = sm.OLS(y, X_with_constant).fit()\n",
    "print(result.summary())"
   ]
  },
  {
   "cell_type": "code",
   "execution_count": null,
   "metadata": {},
   "outputs": [],
   "source": [
    "# Xây dựng mô hình hồi quy đa biến với biến phụ thuộc là 'M3' và các biến độc lập là 'M1' và 'M2'\n",
    "X_with_constant = sm.add_constant(df[[\"M1\", \"M2\"]].values)\n",
    "y = df[['M3']].values\n",
    "result = sm.OLS(y, X_with_constant).fit()\n",
    "print(result.summary())"
   ]
  },
  {
   "cell_type": "code",
   "execution_count": null,
   "metadata": {},
   "outputs": [],
   "source": [
    "# Xây dựng mô hình hồi quy đa biến với biến phụ thuộc là 'M3' và các biến độc lập là 'M1' và 'M2' (không có hằng số)\n",
    "X = df[[\"M1\", \"M2\"]].values\n",
    "y = df[['M3']].values\n",
    "result = sm.OLS(y, X).fit()\n",
    "print(result.summary())"
   ]
  }
 ],
 "metadata": {
  "language_info": {
   "name": "python"
  }
 },
 "nbformat": 4,
 "nbformat_minor": 2
}
